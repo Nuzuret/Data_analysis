{
 "cells": [
  {
   "cell_type": "markdown",
   "id": "82223588",
   "metadata": {},
   "source": [
    "# Финальный проект: вариант 2"
   ]
  },
  {
   "cell_type": "code",
   "execution_count": 1,
   "id": "af175a6f",
   "metadata": {},
   "outputs": [],
   "source": [
    "import pandas as pd\n",
    "import pandahouse as ph\n",
    "import seaborn as sns\n",
    "import matplotlib.pyplot as plt\n",
    "from tqdm.auto import tqdm\n",
    "import numpy as np\n",
    "import scipy.stats as ss\n",
    "import pingouin as pg\n",
    "\n",
    "\n",
    "\n",
    "%matplotlib inline"
   ]
  },
  {
   "cell_type": "markdown",
   "id": "82eaa643",
   "metadata": {},
   "source": [
    "## Задание 1. A/B–тестирование\n",
    "### 1.1 Условие\n",
    "\n",
    "Одной из основных задач аналитика в нашей команде является корректное проведение экспериментов. Для этого мы применяем метод A/B–тестирования. В ходе тестирования одной гипотезы целевой группе была предложена новая механика оплаты услуг на сайте, у контрольной группы оставалась базовая механика. В качестве задания Вам необходимо проанализировать итоги эксперимента и сделать вывод, стоит ли запускать новую механику оплаты на всех пользователей.\n",
    "\n"
   ]
  },
  {
   "cell_type": "markdown",
   "id": "8fa76d12",
   "metadata": {},
   "source": [
    "#### 1.2 Входные данные\n",
    "\n",
    "В качестве входных данных Вы имеете 4 csv-файла:\n",
    "\n",
    "+ __groups.csv__ - файл с информацией о принадлежности пользователя к контрольной или экспериментальной группе (А – контроль, B – целевая группа) "
   ]
  },
  {
   "cell_type": "code",
   "execution_count": 2,
   "id": "191f876d",
   "metadata": {},
   "outputs": [
    {
     "data": {
      "text/html": [
       "<div>\n",
       "<style scoped>\n",
       "    .dataframe tbody tr th:only-of-type {\n",
       "        vertical-align: middle;\n",
       "    }\n",
       "\n",
       "    .dataframe tbody tr th {\n",
       "        vertical-align: top;\n",
       "    }\n",
       "\n",
       "    .dataframe thead th {\n",
       "        text-align: right;\n",
       "    }\n",
       "</style>\n",
       "<table border=\"1\" class=\"dataframe\">\n",
       "  <thead>\n",
       "    <tr style=\"text-align: right;\">\n",
       "      <th></th>\n",
       "      <th>id</th>\n",
       "      <th>grp</th>\n",
       "    </tr>\n",
       "  </thead>\n",
       "  <tbody>\n",
       "    <tr>\n",
       "      <th>0</th>\n",
       "      <td>1489</td>\n",
       "      <td>B</td>\n",
       "    </tr>\n",
       "    <tr>\n",
       "      <th>1</th>\n",
       "      <td>1627</td>\n",
       "      <td>A</td>\n",
       "    </tr>\n",
       "    <tr>\n",
       "      <th>2</th>\n",
       "      <td>1768</td>\n",
       "      <td>B</td>\n",
       "    </tr>\n",
       "    <tr>\n",
       "      <th>3</th>\n",
       "      <td>1783</td>\n",
       "      <td>B</td>\n",
       "    </tr>\n",
       "    <tr>\n",
       "      <th>4</th>\n",
       "      <td>1794</td>\n",
       "      <td>A</td>\n",
       "    </tr>\n",
       "    <tr>\n",
       "      <th>...</th>\n",
       "      <td>...</td>\n",
       "      <td>...</td>\n",
       "    </tr>\n",
       "    <tr>\n",
       "      <th>74479</th>\n",
       "      <td>5692459</td>\n",
       "      <td>B</td>\n",
       "    </tr>\n",
       "    <tr>\n",
       "      <th>74480</th>\n",
       "      <td>5692572</td>\n",
       "      <td>B</td>\n",
       "    </tr>\n",
       "    <tr>\n",
       "      <th>74481</th>\n",
       "      <td>5692865</td>\n",
       "      <td>B</td>\n",
       "    </tr>\n",
       "    <tr>\n",
       "      <th>74482</th>\n",
       "      <td>5693667</td>\n",
       "      <td>B</td>\n",
       "    </tr>\n",
       "    <tr>\n",
       "      <th>74483</th>\n",
       "      <td>5694419</td>\n",
       "      <td>B</td>\n",
       "    </tr>\n",
       "  </tbody>\n",
       "</table>\n",
       "<p>74484 rows × 2 columns</p>\n",
       "</div>"
      ],
      "text/plain": [
       "            id grp\n",
       "0         1489   B\n",
       "1         1627   A\n",
       "2         1768   B\n",
       "3         1783   B\n",
       "4         1794   A\n",
       "...        ...  ..\n",
       "74479  5692459   B\n",
       "74480  5692572   B\n",
       "74481  5692865   B\n",
       "74482  5693667   B\n",
       "74483  5694419   B\n",
       "\n",
       "[74484 rows x 2 columns]"
      ]
     },
     "execution_count": 2,
     "metadata": {},
     "output_type": "execute_result"
    }
   ],
   "source": [
    "groups = pd.read_csv('groups.csv', sep=';', encoding='ISO-8859-1') \n",
    "groups"
   ]
  },
  {
   "cell_type": "markdown",
   "id": "8dc3d107",
   "metadata": {},
   "source": [
    "+ __groups_add.csv__ - дополнительный файл с пользователями, который вам прислали спустя 2 дня после передачи данных"
   ]
  },
  {
   "cell_type": "code",
   "execution_count": 3,
   "id": "05b3448d",
   "metadata": {},
   "outputs": [
    {
     "data": {
      "text/html": [
       "<div>\n",
       "<style scoped>\n",
       "    .dataframe tbody tr th:only-of-type {\n",
       "        vertical-align: middle;\n",
       "    }\n",
       "\n",
       "    .dataframe tbody tr th {\n",
       "        vertical-align: top;\n",
       "    }\n",
       "\n",
       "    .dataframe thead th {\n",
       "        text-align: right;\n",
       "    }\n",
       "</style>\n",
       "<table border=\"1\" class=\"dataframe\">\n",
       "  <thead>\n",
       "    <tr style=\"text-align: right;\">\n",
       "      <th></th>\n",
       "      <th>id</th>\n",
       "      <th>grp</th>\n",
       "    </tr>\n",
       "  </thead>\n",
       "  <tbody>\n",
       "    <tr>\n",
       "      <th>0</th>\n",
       "      <td>5694584</td>\n",
       "      <td>B</td>\n",
       "    </tr>\n",
       "    <tr>\n",
       "      <th>1</th>\n",
       "      <td>5694830</td>\n",
       "      <td>B</td>\n",
       "    </tr>\n",
       "    <tr>\n",
       "      <th>2</th>\n",
       "      <td>5695057</td>\n",
       "      <td>B</td>\n",
       "    </tr>\n",
       "    <tr>\n",
       "      <th>3</th>\n",
       "      <td>5698872</td>\n",
       "      <td>B</td>\n",
       "    </tr>\n",
       "    <tr>\n",
       "      <th>4</th>\n",
       "      <td>5699067</td>\n",
       "      <td>B</td>\n",
       "    </tr>\n",
       "    <tr>\n",
       "      <th>...</th>\n",
       "      <td>...</td>\n",
       "      <td>...</td>\n",
       "    </tr>\n",
       "    <tr>\n",
       "      <th>87</th>\n",
       "      <td>200247820</td>\n",
       "      <td>B</td>\n",
       "    </tr>\n",
       "    <tr>\n",
       "      <th>88</th>\n",
       "      <td>201032527</td>\n",
       "      <td>B</td>\n",
       "    </tr>\n",
       "    <tr>\n",
       "      <th>89</th>\n",
       "      <td>201067612</td>\n",
       "      <td>B</td>\n",
       "    </tr>\n",
       "    <tr>\n",
       "      <th>90</th>\n",
       "      <td>201067653</td>\n",
       "      <td>B</td>\n",
       "    </tr>\n",
       "    <tr>\n",
       "      <th>91</th>\n",
       "      <td>201067659</td>\n",
       "      <td>B</td>\n",
       "    </tr>\n",
       "  </tbody>\n",
       "</table>\n",
       "<p>92 rows × 2 columns</p>\n",
       "</div>"
      ],
      "text/plain": [
       "           id grp\n",
       "0     5694584   B\n",
       "1     5694830   B\n",
       "2     5695057   B\n",
       "3     5698872   B\n",
       "4     5699067   B\n",
       "..        ...  ..\n",
       "87  200247820   B\n",
       "88  201032527   B\n",
       "89  201067612   B\n",
       "90  201067653   B\n",
       "91  201067659   B\n",
       "\n",
       "[92 rows x 2 columns]"
      ]
     },
     "execution_count": 3,
     "metadata": {},
     "output_type": "execute_result"
    }
   ],
   "source": [
    "groups_add = pd.read_csv('groups_add.csv', sep=',', encoding='ISO-8859-1') \n",
    "groups_add"
   ]
  },
  {
   "cell_type": "markdown",
   "id": "2c7bc001",
   "metadata": {},
   "source": [
    "+ __active_studs.csv__ - файл с информацией о пользователях, которые зашли на платформу в дни проведения эксперимента. "
   ]
  },
  {
   "cell_type": "code",
   "execution_count": 4,
   "id": "e74e6a66",
   "metadata": {},
   "outputs": [
    {
     "data": {
      "text/html": [
       "<div>\n",
       "<style scoped>\n",
       "    .dataframe tbody tr th:only-of-type {\n",
       "        vertical-align: middle;\n",
       "    }\n",
       "\n",
       "    .dataframe tbody tr th {\n",
       "        vertical-align: top;\n",
       "    }\n",
       "\n",
       "    .dataframe thead th {\n",
       "        text-align: right;\n",
       "    }\n",
       "</style>\n",
       "<table border=\"1\" class=\"dataframe\">\n",
       "  <thead>\n",
       "    <tr style=\"text-align: right;\">\n",
       "      <th></th>\n",
       "      <th>student_id</th>\n",
       "    </tr>\n",
       "  </thead>\n",
       "  <tbody>\n",
       "    <tr>\n",
       "      <th>0</th>\n",
       "      <td>581585</td>\n",
       "    </tr>\n",
       "    <tr>\n",
       "      <th>1</th>\n",
       "      <td>5723133</td>\n",
       "    </tr>\n",
       "    <tr>\n",
       "      <th>2</th>\n",
       "      <td>3276743</td>\n",
       "    </tr>\n",
       "    <tr>\n",
       "      <th>3</th>\n",
       "      <td>4238589</td>\n",
       "    </tr>\n",
       "    <tr>\n",
       "      <th>4</th>\n",
       "      <td>4475369</td>\n",
       "    </tr>\n",
       "    <tr>\n",
       "      <th>...</th>\n",
       "      <td>...</td>\n",
       "    </tr>\n",
       "    <tr>\n",
       "      <th>8336</th>\n",
       "      <td>1794344</td>\n",
       "    </tr>\n",
       "    <tr>\n",
       "      <th>8337</th>\n",
       "      <td>296883</td>\n",
       "    </tr>\n",
       "    <tr>\n",
       "      <th>8338</th>\n",
       "      <td>3598448</td>\n",
       "    </tr>\n",
       "    <tr>\n",
       "      <th>8339</th>\n",
       "      <td>3610547</td>\n",
       "    </tr>\n",
       "    <tr>\n",
       "      <th>8340</th>\n",
       "      <td>205705</td>\n",
       "    </tr>\n",
       "  </tbody>\n",
       "</table>\n",
       "<p>8341 rows × 1 columns</p>\n",
       "</div>"
      ],
      "text/plain": [
       "      student_id\n",
       "0         581585\n",
       "1        5723133\n",
       "2        3276743\n",
       "3        4238589\n",
       "4        4475369\n",
       "...          ...\n",
       "8336     1794344\n",
       "8337      296883\n",
       "8338     3598448\n",
       "8339     3610547\n",
       "8340      205705\n",
       "\n",
       "[8341 rows x 1 columns]"
      ]
     },
     "execution_count": 4,
     "metadata": {},
     "output_type": "execute_result"
    }
   ],
   "source": [
    "active_studs = pd.read_csv('active_studs.csv', sep=';', encoding='ISO-8859-1') \n",
    "active_studs"
   ]
  },
  {
   "cell_type": "markdown",
   "id": "6bc2a49d",
   "metadata": {},
   "source": [
    "+ __checks.csv__ - файл с информацией об оплатах пользователей в дни проведения эксперимента. "
   ]
  },
  {
   "cell_type": "code",
   "execution_count": 5,
   "id": "d8ae3b41",
   "metadata": {},
   "outputs": [
    {
     "data": {
      "text/html": [
       "<div>\n",
       "<style scoped>\n",
       "    .dataframe tbody tr th:only-of-type {\n",
       "        vertical-align: middle;\n",
       "    }\n",
       "\n",
       "    .dataframe tbody tr th {\n",
       "        vertical-align: top;\n",
       "    }\n",
       "\n",
       "    .dataframe thead th {\n",
       "        text-align: right;\n",
       "    }\n",
       "</style>\n",
       "<table border=\"1\" class=\"dataframe\">\n",
       "  <thead>\n",
       "    <tr style=\"text-align: right;\">\n",
       "      <th></th>\n",
       "      <th>student_id</th>\n",
       "      <th>rev</th>\n",
       "    </tr>\n",
       "  </thead>\n",
       "  <tbody>\n",
       "    <tr>\n",
       "      <th>0</th>\n",
       "      <td>1627</td>\n",
       "      <td>990.0</td>\n",
       "    </tr>\n",
       "    <tr>\n",
       "      <th>1</th>\n",
       "      <td>3185</td>\n",
       "      <td>690.0</td>\n",
       "    </tr>\n",
       "    <tr>\n",
       "      <th>2</th>\n",
       "      <td>25973</td>\n",
       "      <td>690.0</td>\n",
       "    </tr>\n",
       "    <tr>\n",
       "      <th>3</th>\n",
       "      <td>26280</td>\n",
       "      <td>690.0</td>\n",
       "    </tr>\n",
       "    <tr>\n",
       "      <th>4</th>\n",
       "      <td>100300</td>\n",
       "      <td>990.0</td>\n",
       "    </tr>\n",
       "    <tr>\n",
       "      <th>...</th>\n",
       "      <td>...</td>\n",
       "      <td>...</td>\n",
       "    </tr>\n",
       "    <tr>\n",
       "      <th>536</th>\n",
       "      <td>5645737</td>\n",
       "      <td>1900.0</td>\n",
       "    </tr>\n",
       "    <tr>\n",
       "      <th>537</th>\n",
       "      <td>5651566</td>\n",
       "      <td>1900.0</td>\n",
       "    </tr>\n",
       "    <tr>\n",
       "      <th>538</th>\n",
       "      <td>5662322</td>\n",
       "      <td>1900.0</td>\n",
       "    </tr>\n",
       "    <tr>\n",
       "      <th>539</th>\n",
       "      <td>5681918</td>\n",
       "      <td>1900.0</td>\n",
       "    </tr>\n",
       "    <tr>\n",
       "      <th>540</th>\n",
       "      <td>5740903</td>\n",
       "      <td>1900.0</td>\n",
       "    </tr>\n",
       "  </tbody>\n",
       "</table>\n",
       "<p>541 rows × 2 columns</p>\n",
       "</div>"
      ],
      "text/plain": [
       "     student_id     rev\n",
       "0          1627   990.0\n",
       "1          3185   690.0\n",
       "2         25973   690.0\n",
       "3         26280   690.0\n",
       "4        100300   990.0\n",
       "..          ...     ...\n",
       "536     5645737  1900.0\n",
       "537     5651566  1900.0\n",
       "538     5662322  1900.0\n",
       "539     5681918  1900.0\n",
       "540     5740903  1900.0\n",
       "\n",
       "[541 rows x 2 columns]"
      ]
     },
     "execution_count": 5,
     "metadata": {},
     "output_type": "execute_result"
    }
   ],
   "source": [
    "checks = pd.read_csv('checks.csv', sep=';', encoding='ISO-8859-1') \n",
    "checks"
   ]
  },
  {
   "cell_type": "markdown",
   "id": "16ae58d6",
   "metadata": {},
   "source": [
    "### Предобработка данных\n",
    "Посмотрим на размеры и количесво уникальных значений в датасетах"
   ]
  },
  {
   "cell_type": "code",
   "execution_count": 6,
   "id": "f7462950",
   "metadata": {},
   "outputs": [
    {
     "data": {
      "text/plain": [
       "(74484, 2)"
      ]
     },
     "execution_count": 6,
     "metadata": {},
     "output_type": "execute_result"
    }
   ],
   "source": [
    "groups.shape"
   ]
  },
  {
   "cell_type": "code",
   "execution_count": 7,
   "id": "1048788e",
   "metadata": {},
   "outputs": [
    {
     "data": {
      "text/plain": [
       "(92, 2)"
      ]
     },
     "execution_count": 7,
     "metadata": {},
     "output_type": "execute_result"
    }
   ],
   "source": [
    "groups_add.shape"
   ]
  },
  {
   "cell_type": "code",
   "execution_count": 8,
   "id": "ea4c5449",
   "metadata": {},
   "outputs": [
    {
     "data": {
      "text/plain": [
       "(8341, 1)"
      ]
     },
     "execution_count": 8,
     "metadata": {},
     "output_type": "execute_result"
    }
   ],
   "source": [
    "active_studs.shape"
   ]
  },
  {
   "cell_type": "code",
   "execution_count": 9,
   "id": "662d11eb",
   "metadata": {},
   "outputs": [
    {
     "data": {
      "text/plain": [
       "(541, 2)"
      ]
     },
     "execution_count": 9,
     "metadata": {},
     "output_type": "execute_result"
    }
   ],
   "source": [
    "checks.shape"
   ]
  },
  {
   "cell_type": "markdown",
   "id": "e5c7c15c",
   "metadata": {},
   "source": [
    "Удалим возможые дубликаты значений"
   ]
  },
  {
   "cell_type": "code",
   "execution_count": 10,
   "id": "c0d6e8db",
   "metadata": {},
   "outputs": [],
   "source": [
    "groups = groups.drop_duplicates();\n",
    "groups_add = groups_add.drop_duplicates();\n",
    "active_studs = active_studs.drop_duplicates();\n",
    "checks = checks.drop_duplicates();"
   ]
  },
  {
   "cell_type": "code",
   "execution_count": 11,
   "id": "c835726b",
   "metadata": {},
   "outputs": [
    {
     "data": {
      "text/plain": [
       "(74484, 2)"
      ]
     },
     "execution_count": 11,
     "metadata": {},
     "output_type": "execute_result"
    }
   ],
   "source": [
    "groups.shape"
   ]
  },
  {
   "cell_type": "code",
   "execution_count": 12,
   "id": "c18b86b8",
   "metadata": {},
   "outputs": [
    {
     "data": {
      "text/plain": [
       "(92, 2)"
      ]
     },
     "execution_count": 12,
     "metadata": {},
     "output_type": "execute_result"
    }
   ],
   "source": [
    "groups_add.shape"
   ]
  },
  {
   "cell_type": "code",
   "execution_count": 13,
   "id": "589b5faf",
   "metadata": {},
   "outputs": [
    {
     "data": {
      "text/plain": [
       "(8341, 1)"
      ]
     },
     "execution_count": 13,
     "metadata": {},
     "output_type": "execute_result"
    }
   ],
   "source": [
    "active_studs.shape"
   ]
  },
  {
   "cell_type": "code",
   "execution_count": 14,
   "id": "d7f2e171",
   "metadata": {},
   "outputs": [
    {
     "data": {
      "text/plain": [
       "(541, 2)"
      ]
     },
     "execution_count": 14,
     "metadata": {},
     "output_type": "execute_result"
    }
   ],
   "source": [
    "checks.shape"
   ]
  },
  {
   "cell_type": "markdown",
   "id": "494a7709",
   "metadata": {},
   "source": [
    "Размеры датасетов не изменились после удаления дубликатов\n",
    "\n",
    "---\n",
    "\n",
    "Посмотрим на типы значений в датасете и количесво уникальных значений"
   ]
  },
  {
   "cell_type": "code",
   "execution_count": 15,
   "id": "9ea25538",
   "metadata": {},
   "outputs": [
    {
     "data": {
      "text/plain": [
       "id     74484\n",
       "grp        2\n",
       "dtype: int64"
      ]
     },
     "execution_count": 15,
     "metadata": {},
     "output_type": "execute_result"
    }
   ],
   "source": [
    "groups.nunique()"
   ]
  },
  {
   "cell_type": "code",
   "execution_count": 16,
   "id": "3e90932b",
   "metadata": {},
   "outputs": [
    {
     "data": {
      "text/plain": [
       "id      int64\n",
       "grp    object\n",
       "dtype: object"
      ]
     },
     "execution_count": 16,
     "metadata": {},
     "output_type": "execute_result"
    }
   ],
   "source": [
    "groups.dtypes"
   ]
  },
  {
   "cell_type": "code",
   "execution_count": 17,
   "id": "da608cf1",
   "metadata": {},
   "outputs": [
    {
     "data": {
      "text/plain": [
       "id     92\n",
       "grp     2\n",
       "dtype: int64"
      ]
     },
     "execution_count": 17,
     "metadata": {},
     "output_type": "execute_result"
    }
   ],
   "source": [
    "groups_add.nunique()"
   ]
  },
  {
   "cell_type": "code",
   "execution_count": 18,
   "id": "94a0fe14",
   "metadata": {},
   "outputs": [
    {
     "data": {
      "text/plain": [
       "id      int64\n",
       "grp    object\n",
       "dtype: object"
      ]
     },
     "execution_count": 18,
     "metadata": {},
     "output_type": "execute_result"
    }
   ],
   "source": [
    "groups_add.dtypes"
   ]
  },
  {
   "cell_type": "code",
   "execution_count": 19,
   "id": "b20f01fe",
   "metadata": {},
   "outputs": [
    {
     "data": {
      "text/plain": [
       "student_id    8341\n",
       "dtype: int64"
      ]
     },
     "execution_count": 19,
     "metadata": {},
     "output_type": "execute_result"
    }
   ],
   "source": [
    "active_studs.nunique()"
   ]
  },
  {
   "cell_type": "code",
   "execution_count": 20,
   "id": "34558330",
   "metadata": {},
   "outputs": [
    {
     "data": {
      "text/plain": [
       "student_id    int64\n",
       "dtype: object"
      ]
     },
     "execution_count": 20,
     "metadata": {},
     "output_type": "execute_result"
    }
   ],
   "source": [
    "active_studs.dtypes"
   ]
  },
  {
   "cell_type": "code",
   "execution_count": 21,
   "id": "e42d17b8",
   "metadata": {},
   "outputs": [
    {
     "data": {
      "text/plain": [
       "student_id    541\n",
       "rev            39\n",
       "dtype: int64"
      ]
     },
     "execution_count": 21,
     "metadata": {},
     "output_type": "execute_result"
    }
   ],
   "source": [
    "checks.nunique()"
   ]
  },
  {
   "cell_type": "code",
   "execution_count": 22,
   "id": "eb9e43f0",
   "metadata": {},
   "outputs": [
    {
     "data": {
      "text/plain": [
       "student_id      int64\n",
       "rev           float64\n",
       "dtype: object"
      ]
     },
     "execution_count": 22,
     "metadata": {},
     "output_type": "execute_result"
    }
   ],
   "source": [
    "checks.dtypes"
   ]
  },
  {
   "cell_type": "markdown",
   "id": "cbfe99c0",
   "metadata": {},
   "source": [
    "Для начала объедим датафреймы groups_add и groups"
   ]
  },
  {
   "cell_type": "code",
   "execution_count": 23,
   "id": "88a79800",
   "metadata": {},
   "outputs": [
    {
     "data": {
      "text/html": [
       "<div>\n",
       "<style scoped>\n",
       "    .dataframe tbody tr th:only-of-type {\n",
       "        vertical-align: middle;\n",
       "    }\n",
       "\n",
       "    .dataframe tbody tr th {\n",
       "        vertical-align: top;\n",
       "    }\n",
       "\n",
       "    .dataframe thead th {\n",
       "        text-align: right;\n",
       "    }\n",
       "</style>\n",
       "<table border=\"1\" class=\"dataframe\">\n",
       "  <thead>\n",
       "    <tr style=\"text-align: right;\">\n",
       "      <th></th>\n",
       "      <th>student_id</th>\n",
       "      <th>grp</th>\n",
       "    </tr>\n",
       "  </thead>\n",
       "  <tbody>\n",
       "    <tr>\n",
       "      <th>0</th>\n",
       "      <td>5694584</td>\n",
       "      <td>B</td>\n",
       "    </tr>\n",
       "    <tr>\n",
       "      <th>1</th>\n",
       "      <td>5694830</td>\n",
       "      <td>B</td>\n",
       "    </tr>\n",
       "    <tr>\n",
       "      <th>2</th>\n",
       "      <td>5695057</td>\n",
       "      <td>B</td>\n",
       "    </tr>\n",
       "    <tr>\n",
       "      <th>3</th>\n",
       "      <td>5698872</td>\n",
       "      <td>B</td>\n",
       "    </tr>\n",
       "    <tr>\n",
       "      <th>4</th>\n",
       "      <td>5699067</td>\n",
       "      <td>B</td>\n",
       "    </tr>\n",
       "    <tr>\n",
       "      <th>...</th>\n",
       "      <td>...</td>\n",
       "      <td>...</td>\n",
       "    </tr>\n",
       "    <tr>\n",
       "      <th>74571</th>\n",
       "      <td>5692459</td>\n",
       "      <td>B</td>\n",
       "    </tr>\n",
       "    <tr>\n",
       "      <th>74572</th>\n",
       "      <td>5692572</td>\n",
       "      <td>B</td>\n",
       "    </tr>\n",
       "    <tr>\n",
       "      <th>74573</th>\n",
       "      <td>5692865</td>\n",
       "      <td>B</td>\n",
       "    </tr>\n",
       "    <tr>\n",
       "      <th>74574</th>\n",
       "      <td>5693667</td>\n",
       "      <td>B</td>\n",
       "    </tr>\n",
       "    <tr>\n",
       "      <th>74575</th>\n",
       "      <td>5694419</td>\n",
       "      <td>B</td>\n",
       "    </tr>\n",
       "  </tbody>\n",
       "</table>\n",
       "<p>74576 rows × 2 columns</p>\n",
       "</div>"
      ],
      "text/plain": [
       "       student_id grp\n",
       "0         5694584   B\n",
       "1         5694830   B\n",
       "2         5695057   B\n",
       "3         5698872   B\n",
       "4         5699067   B\n",
       "...           ...  ..\n",
       "74571     5692459   B\n",
       "74572     5692572   B\n",
       "74573     5692865   B\n",
       "74574     5693667   B\n",
       "74575     5694419   B\n",
       "\n",
       "[74576 rows x 2 columns]"
      ]
     },
     "execution_count": 23,
     "metadata": {},
     "output_type": "execute_result"
    }
   ],
   "source": [
    "groups_all = pd.concat([groups_add, groups]).reset_index(drop = True).rename(columns={'id': 'student_id'})\n",
    "groups_all"
   ]
  },
  {
   "cell_type": "markdown",
   "id": "acea4e13",
   "metadata": {},
   "source": [
    "Проверим новую таблицу на возможные дубликаты значений"
   ]
  },
  {
   "cell_type": "code",
   "execution_count": 24,
   "id": "5a7fae93",
   "metadata": {},
   "outputs": [
    {
     "data": {
      "text/plain": [
       "(74576, 2)"
      ]
     },
     "execution_count": 24,
     "metadata": {},
     "output_type": "execute_result"
    }
   ],
   "source": [
    "groups_all.shape"
   ]
  },
  {
   "cell_type": "code",
   "execution_count": 25,
   "id": "c9c269f9",
   "metadata": {},
   "outputs": [],
   "source": [
    "groups_all = groups_all.drop_duplicates();"
   ]
  },
  {
   "cell_type": "code",
   "execution_count": 26,
   "id": "b57e2fa5",
   "metadata": {},
   "outputs": [
    {
     "data": {
      "text/plain": [
       "(74576, 2)"
      ]
     },
     "execution_count": 26,
     "metadata": {},
     "output_type": "execute_result"
    }
   ],
   "source": [
    "groups_all.shape"
   ]
  },
  {
   "cell_type": "markdown",
   "id": "89d8937e",
   "metadata": {},
   "source": [
    "Теперь объединим датафреймы для дальнейшнего анализа, нам необходимо отобрать пользователей, которые зашли на платформу в дни проведения эксперимента."
   ]
  },
  {
   "cell_type": "code",
   "execution_count": 27,
   "id": "a78945c7",
   "metadata": {},
   "outputs": [
    {
     "data": {
      "text/html": [
       "<div>\n",
       "<style scoped>\n",
       "    .dataframe tbody tr th:only-of-type {\n",
       "        vertical-align: middle;\n",
       "    }\n",
       "\n",
       "    .dataframe tbody tr th {\n",
       "        vertical-align: top;\n",
       "    }\n",
       "\n",
       "    .dataframe thead th {\n",
       "        text-align: right;\n",
       "    }\n",
       "</style>\n",
       "<table border=\"1\" class=\"dataframe\">\n",
       "  <thead>\n",
       "    <tr style=\"text-align: right;\">\n",
       "      <th></th>\n",
       "      <th>student_id</th>\n",
       "      <th>grp</th>\n",
       "    </tr>\n",
       "  </thead>\n",
       "  <tbody>\n",
       "    <tr>\n",
       "      <th>0</th>\n",
       "      <td>581585</td>\n",
       "      <td>A</td>\n",
       "    </tr>\n",
       "    <tr>\n",
       "      <th>1</th>\n",
       "      <td>5723133</td>\n",
       "      <td>A</td>\n",
       "    </tr>\n",
       "    <tr>\n",
       "      <th>2</th>\n",
       "      <td>3276743</td>\n",
       "      <td>B</td>\n",
       "    </tr>\n",
       "    <tr>\n",
       "      <th>3</th>\n",
       "      <td>4238589</td>\n",
       "      <td>A</td>\n",
       "    </tr>\n",
       "    <tr>\n",
       "      <th>4</th>\n",
       "      <td>4475369</td>\n",
       "      <td>B</td>\n",
       "    </tr>\n",
       "    <tr>\n",
       "      <th>...</th>\n",
       "      <td>...</td>\n",
       "      <td>...</td>\n",
       "    </tr>\n",
       "    <tr>\n",
       "      <th>8336</th>\n",
       "      <td>1794344</td>\n",
       "      <td>B</td>\n",
       "    </tr>\n",
       "    <tr>\n",
       "      <th>8337</th>\n",
       "      <td>296883</td>\n",
       "      <td>B</td>\n",
       "    </tr>\n",
       "    <tr>\n",
       "      <th>8338</th>\n",
       "      <td>3598448</td>\n",
       "      <td>B</td>\n",
       "    </tr>\n",
       "    <tr>\n",
       "      <th>8339</th>\n",
       "      <td>3610547</td>\n",
       "      <td>B</td>\n",
       "    </tr>\n",
       "    <tr>\n",
       "      <th>8340</th>\n",
       "      <td>205705</td>\n",
       "      <td>B</td>\n",
       "    </tr>\n",
       "  </tbody>\n",
       "</table>\n",
       "<p>8341 rows × 2 columns</p>\n",
       "</div>"
      ],
      "text/plain": [
       "      student_id grp\n",
       "0         581585   A\n",
       "1        5723133   A\n",
       "2        3276743   B\n",
       "3        4238589   A\n",
       "4        4475369   B\n",
       "...          ...  ..\n",
       "8336     1794344   B\n",
       "8337      296883   B\n",
       "8338     3598448   B\n",
       "8339     3610547   B\n",
       "8340      205705   B\n",
       "\n",
       "[8341 rows x 2 columns]"
      ]
     },
     "execution_count": 27,
     "metadata": {},
     "output_type": "execute_result"
    }
   ],
   "source": [
    "active_all = active_studs.merge(groups_all, on = 'student_id', how='left')\n",
    "active_all "
   ]
  },
  {
   "cell_type": "markdown",
   "id": "8caabe06",
   "metadata": {},
   "source": [
    "Проверим новую таблицу на возможные дубликаты значений"
   ]
  },
  {
   "cell_type": "code",
   "execution_count": 28,
   "id": "3142e45e",
   "metadata": {},
   "outputs": [
    {
     "data": {
      "text/plain": [
       "(8341, 2)"
      ]
     },
     "execution_count": 28,
     "metadata": {},
     "output_type": "execute_result"
    }
   ],
   "source": [
    "active_all.shape"
   ]
  },
  {
   "cell_type": "code",
   "execution_count": 29,
   "id": "03f41fa7",
   "metadata": {},
   "outputs": [],
   "source": [
    "active_all.dropna();\n",
    "active_all = active_all.drop_duplicates();"
   ]
  },
  {
   "cell_type": "code",
   "execution_count": 30,
   "id": "96bbdf75",
   "metadata": {},
   "outputs": [
    {
     "data": {
      "text/plain": [
       "(8341, 2)"
      ]
     },
     "execution_count": 30,
     "metadata": {},
     "output_type": "execute_result"
    }
   ],
   "source": [
    "active_all.shape"
   ]
  },
  {
   "cell_type": "markdown",
   "id": "9bb56218",
   "metadata": {},
   "source": [
    "Далее добавим данные из таблицы с чеками, объединять будем так, чтобы оставить только тех пользователей, кому была присвоина метка 'А' или 'В' (из датафрейма active_all), а так же добавим колонку \"buy_or_not\" с фильрацией по полльзователям, где not_buy - покупки не было, а buy - покупка была. \n",
    "\n",
    "Так же к колонке \"rev\" заменим значения где покупки нет на 0.  "
   ]
  },
  {
   "cell_type": "code",
   "execution_count": 31,
   "id": "deffc6e4",
   "metadata": {},
   "outputs": [
    {
     "data": {
      "text/html": [
       "<div>\n",
       "<style scoped>\n",
       "    .dataframe tbody tr th:only-of-type {\n",
       "        vertical-align: middle;\n",
       "    }\n",
       "\n",
       "    .dataframe tbody tr th {\n",
       "        vertical-align: top;\n",
       "    }\n",
       "\n",
       "    .dataframe thead th {\n",
       "        text-align: right;\n",
       "    }\n",
       "</style>\n",
       "<table border=\"1\" class=\"dataframe\">\n",
       "  <thead>\n",
       "    <tr style=\"text-align: right;\">\n",
       "      <th></th>\n",
       "      <th>student_id</th>\n",
       "      <th>grp</th>\n",
       "      <th>rev</th>\n",
       "      <th>buy_or_not</th>\n",
       "    </tr>\n",
       "  </thead>\n",
       "  <tbody>\n",
       "    <tr>\n",
       "      <th>0</th>\n",
       "      <td>581585</td>\n",
       "      <td>A</td>\n",
       "      <td>0.0</td>\n",
       "      <td>not_buy</td>\n",
       "    </tr>\n",
       "    <tr>\n",
       "      <th>1</th>\n",
       "      <td>5723133</td>\n",
       "      <td>A</td>\n",
       "      <td>0.0</td>\n",
       "      <td>not_buy</td>\n",
       "    </tr>\n",
       "    <tr>\n",
       "      <th>2</th>\n",
       "      <td>3276743</td>\n",
       "      <td>B</td>\n",
       "      <td>0.0</td>\n",
       "      <td>not_buy</td>\n",
       "    </tr>\n",
       "    <tr>\n",
       "      <th>3</th>\n",
       "      <td>4238589</td>\n",
       "      <td>A</td>\n",
       "      <td>0.0</td>\n",
       "      <td>not_buy</td>\n",
       "    </tr>\n",
       "    <tr>\n",
       "      <th>4</th>\n",
       "      <td>4475369</td>\n",
       "      <td>B</td>\n",
       "      <td>0.0</td>\n",
       "      <td>not_buy</td>\n",
       "    </tr>\n",
       "    <tr>\n",
       "      <th>...</th>\n",
       "      <td>...</td>\n",
       "      <td>...</td>\n",
       "      <td>...</td>\n",
       "      <td>...</td>\n",
       "    </tr>\n",
       "    <tr>\n",
       "      <th>8336</th>\n",
       "      <td>1794344</td>\n",
       "      <td>B</td>\n",
       "      <td>0.0</td>\n",
       "      <td>not_buy</td>\n",
       "    </tr>\n",
       "    <tr>\n",
       "      <th>8337</th>\n",
       "      <td>296883</td>\n",
       "      <td>B</td>\n",
       "      <td>0.0</td>\n",
       "      <td>not_buy</td>\n",
       "    </tr>\n",
       "    <tr>\n",
       "      <th>8338</th>\n",
       "      <td>3598448</td>\n",
       "      <td>B</td>\n",
       "      <td>0.0</td>\n",
       "      <td>not_buy</td>\n",
       "    </tr>\n",
       "    <tr>\n",
       "      <th>8339</th>\n",
       "      <td>3610547</td>\n",
       "      <td>B</td>\n",
       "      <td>290.0</td>\n",
       "      <td>buy</td>\n",
       "    </tr>\n",
       "    <tr>\n",
       "      <th>8340</th>\n",
       "      <td>205705</td>\n",
       "      <td>B</td>\n",
       "      <td>0.0</td>\n",
       "      <td>not_buy</td>\n",
       "    </tr>\n",
       "  </tbody>\n",
       "</table>\n",
       "<p>8341 rows × 4 columns</p>\n",
       "</div>"
      ],
      "text/plain": [
       "      student_id grp    rev buy_or_not\n",
       "0         581585   A    0.0    not_buy\n",
       "1        5723133   A    0.0    not_buy\n",
       "2        3276743   B    0.0    not_buy\n",
       "3        4238589   A    0.0    not_buy\n",
       "4        4475369   B    0.0    not_buy\n",
       "...          ...  ..    ...        ...\n",
       "8336     1794344   B    0.0    not_buy\n",
       "8337      296883   B    0.0    not_buy\n",
       "8338     3598448   B    0.0    not_buy\n",
       "8339     3610547   B  290.0        buy\n",
       "8340      205705   B    0.0    not_buy\n",
       "\n",
       "[8341 rows x 4 columns]"
      ]
     },
     "execution_count": 31,
     "metadata": {},
     "output_type": "execute_result"
    }
   ],
   "source": [
    "active_and_buy = active_all.merge(checks, on = 'student_id', how='left')\n",
    "active_and_buy['buy_or_not'] = active_and_buy.rev.notnull()\n",
    "active_and_buy['buy_or_not'] = active_and_buy.buy_or_not.replace(False, 'not_buy')\n",
    "active_and_buy['buy_or_not'] = active_and_buy.buy_or_not.replace(True, 'buy')\n",
    "active_and_buy['rev'] = active_and_buy.rev.fillna(0)\n",
    "active_and_buy"
   ]
  },
  {
   "cell_type": "code",
   "execution_count": 32,
   "id": "4a54af92",
   "metadata": {},
   "outputs": [
    {
     "data": {
      "text/plain": [
       "(8341, 4)"
      ]
     },
     "execution_count": 32,
     "metadata": {},
     "output_type": "execute_result"
    }
   ],
   "source": [
    "active_and_buy.shape"
   ]
  },
  {
   "cell_type": "markdown",
   "id": "3005412c",
   "metadata": {},
   "source": [
    "Удалим возможные дубликаты"
   ]
  },
  {
   "cell_type": "code",
   "execution_count": 33,
   "id": "1c8f08d5",
   "metadata": {},
   "outputs": [],
   "source": [
    "active_and_buy = active_and_buy.drop_duplicates();"
   ]
  },
  {
   "cell_type": "code",
   "execution_count": 34,
   "id": "43c9b1f2",
   "metadata": {},
   "outputs": [
    {
     "data": {
      "text/plain": [
       "(8341, 4)"
      ]
     },
     "execution_count": 34,
     "metadata": {},
     "output_type": "execute_result"
    }
   ],
   "source": [
    "active_and_buy.shape"
   ]
  },
  {
   "cell_type": "markdown",
   "id": "6746be97",
   "metadata": {},
   "source": [
    "Составим таблицу с подсчетом сколько пользователей совершали оплату, а сколько нет из групп 'А' и 'В'"
   ]
  },
  {
   "cell_type": "code",
   "execution_count": 35,
   "id": "d50cd84a",
   "metadata": {},
   "outputs": [
    {
     "data": {
      "text/html": [
       "<div>\n",
       "<style scoped>\n",
       "    .dataframe tbody tr th:only-of-type {\n",
       "        vertical-align: middle;\n",
       "    }\n",
       "\n",
       "    .dataframe tbody tr th {\n",
       "        vertical-align: top;\n",
       "    }\n",
       "\n",
       "    .dataframe thead th {\n",
       "        text-align: right;\n",
       "    }\n",
       "</style>\n",
       "<table border=\"1\" class=\"dataframe\">\n",
       "  <thead>\n",
       "    <tr style=\"text-align: right;\">\n",
       "      <th></th>\n",
       "      <th>grp</th>\n",
       "      <th>buy_or_not</th>\n",
       "      <th>buyers_count</th>\n",
       "    </tr>\n",
       "  </thead>\n",
       "  <tbody>\n",
       "    <tr>\n",
       "      <th>0</th>\n",
       "      <td>A</td>\n",
       "      <td>buy</td>\n",
       "      <td>78</td>\n",
       "    </tr>\n",
       "    <tr>\n",
       "      <th>1</th>\n",
       "      <td>A</td>\n",
       "      <td>not_buy</td>\n",
       "      <td>1460</td>\n",
       "    </tr>\n",
       "    <tr>\n",
       "      <th>2</th>\n",
       "      <td>B</td>\n",
       "      <td>buy</td>\n",
       "      <td>314</td>\n",
       "    </tr>\n",
       "    <tr>\n",
       "      <th>3</th>\n",
       "      <td>B</td>\n",
       "      <td>not_buy</td>\n",
       "      <td>6489</td>\n",
       "    </tr>\n",
       "  </tbody>\n",
       "</table>\n",
       "</div>"
      ],
      "text/plain": [
       "  grp buy_or_not  buyers_count\n",
       "0   A        buy            78\n",
       "1   A    not_buy          1460\n",
       "2   B        buy           314\n",
       "3   B    not_buy          6489"
      ]
     },
     "execution_count": 35,
     "metadata": {},
     "output_type": "execute_result"
    }
   ],
   "source": [
    "buyers_count = active_and_buy.groupby(['grp', 'buy_or_not'], as_index=False) \\\n",
    ".agg({'rev': 'count'}) \\\n",
    ".rename(columns={'rev': 'buyers_count'}) \n",
    "\n",
    "buyers_count"
   ]
  },
  {
   "cell_type": "markdown",
   "id": "f1fa1e2d",
   "metadata": {},
   "source": [
    "Обработка и подготовка данных заверщена\n",
    "\n",
    "---\n",
    "\n",
    "#### Необходимо понять:\n",
    "+ зависит ли наличие нового экрана оплаты на то, совершит ли пользователь покупку (для этого используем Хи-квадрат),\n",
    "+ проанализируем различается ли средняя сумма покупки для пользователей групп 'А' и 'В', которые совершали оплату, для этого необходимо дополнительно проанализировать данные для выбора метода,\n",
    "+ проанализировать среди купивших курс в обоих группах 'А' и 'В' отличается ли CR, ARPPU и ARPU (для других метрик слишком мало данных)\n",
    "\n",
    "---\n",
    "\n",
    "### Анализ по критерию Хи-квадрат"
   ]
  },
  {
   "cell_type": "code",
   "execution_count": 36,
   "id": "b0328ceb",
   "metadata": {},
   "outputs": [],
   "source": [
    "### Переупорядочить данные в 2x2 для хи-квадрат\n",
    "# 1) Разделить группы на два отдельных кадра данных \n",
    "A = buyers_count[buyers_count['grp'] == 'A'] \n",
    "B = buyers_count[buyers_count['grp'] == 'B']\n",
    "# 2) A-покупка,    \n",
    "A_buy = A.query(\"buy_or_not == 'buy'\").reset_index()\n",
    "A_buy = A_buy.buyers_count[0]\n",
    "# A-без покупки,\n",
    "A_not_buy = A.query(\"buy_or_not == 'not_buy'\").reset_index()\n",
    "A_not_buy = A_not_buy.buyers_count[0]\n",
    "# B-покупка,\n",
    "B_buy = B.query(\"buy_or_not == 'buy'\").reset_index()\n",
    "B_buy = B_buy.buyers_count[0]\n",
    "# B-без покупки\n",
    "B_not_buy = B.query(\"buy_or_not == 'not_buy'\").reset_index()\n",
    "B_not_buy = B_not_buy.buyers_count[0]"
   ]
  },
  {
   "cell_type": "code",
   "execution_count": 37,
   "id": "100894ef",
   "metadata": {},
   "outputs": [],
   "source": [
    "# 3) Создать массив\n",
    "T = np.array([[A_buy, A_not_buy], [B_buy, B_not_buy]])"
   ]
  },
  {
   "cell_type": "code",
   "execution_count": 38,
   "id": "86ea7d3f",
   "metadata": {},
   "outputs": [
    {
     "data": {
      "text/plain": [
       "array([[  78, 1460],\n",
       "       [ 314, 6489]], dtype=int64)"
      ]
     },
     "execution_count": 38,
     "metadata": {},
     "output_type": "execute_result"
    }
   ],
   "source": [
    "T"
   ]
  },
  {
   "cell_type": "code",
   "execution_count": 39,
   "id": "cc73d4a5",
   "metadata": {},
   "outputs": [
    {
     "name": "stdout",
     "output_type": "stream",
     "text": [
      "Chi2ContingencyResult(statistic=0.5821513741106591, pvalue=0.44547028437158964, dof=1, expected_freq=array([[  72.28102146, 1465.71897854],\n",
      "       [ 319.71897854, 6483.28102146]]))\n"
     ]
    }
   ],
   "source": [
    "print(ss.chi2_contingency(T,correction=False))"
   ]
  },
  {
   "cell_type": "markdown",
   "id": "0d807262",
   "metadata": {},
   "source": [
    "Нулевая гипотеза формулируется как: две сравниваемые эмпирические выборки принадлежат к одной и той же генеральной совокупности. \n",
    "\n",
    "Так как pvalue > 0.05, то мы принимаем нулвую гипотезу, то есть разница между старой и новой версией __не__ имеет значение.\n",
    "\n",
    "\n",
    "---\n",
    "\n",
    "### Далее посмотрим отличается ли средняя сумма покупки "
   ]
  },
  {
   "cell_type": "markdown",
   "id": "8db3db5c",
   "metadata": {},
   "source": [
    "Сформируем датафрейм для анализа, удалим пропущенные значения, так как если пользователю не присвоена группа 'А' или 'В', его покупки не дожны влиять на анализ."
   ]
  },
  {
   "cell_type": "markdown",
   "id": "8b89fd79",
   "metadata": {},
   "source": [
    "Анализ активных __платящих__ пользователей"
   ]
  },
  {
   "cell_type": "code",
   "execution_count": 40,
   "id": "f84f5894",
   "metadata": {},
   "outputs": [
    {
     "data": {
      "text/html": [
       "<div>\n",
       "<style scoped>\n",
       "    .dataframe tbody tr th:only-of-type {\n",
       "        vertical-align: middle;\n",
       "    }\n",
       "\n",
       "    .dataframe tbody tr th {\n",
       "        vertical-align: top;\n",
       "    }\n",
       "\n",
       "    .dataframe thead th {\n",
       "        text-align: right;\n",
       "    }\n",
       "</style>\n",
       "<table border=\"1\" class=\"dataframe\">\n",
       "  <thead>\n",
       "    <tr style=\"text-align: right;\">\n",
       "      <th></th>\n",
       "      <th>student_id</th>\n",
       "      <th>rev</th>\n",
       "      <th>grp</th>\n",
       "    </tr>\n",
       "  </thead>\n",
       "  <tbody>\n",
       "    <tr>\n",
       "      <th>0</th>\n",
       "      <td>1627</td>\n",
       "      <td>990.0000</td>\n",
       "      <td>A</td>\n",
       "    </tr>\n",
       "    <tr>\n",
       "      <th>1</th>\n",
       "      <td>100300</td>\n",
       "      <td>990.0000</td>\n",
       "      <td>B</td>\n",
       "    </tr>\n",
       "    <tr>\n",
       "      <th>2</th>\n",
       "      <td>108270</td>\n",
       "      <td>290.0000</td>\n",
       "      <td>B</td>\n",
       "    </tr>\n",
       "    <tr>\n",
       "      <th>3</th>\n",
       "      <td>264473</td>\n",
       "      <td>1900.0001</td>\n",
       "      <td>B</td>\n",
       "    </tr>\n",
       "    <tr>\n",
       "      <th>4</th>\n",
       "      <td>274352</td>\n",
       "      <td>690.0000</td>\n",
       "      <td>B</td>\n",
       "    </tr>\n",
       "    <tr>\n",
       "      <th>...</th>\n",
       "      <td>...</td>\n",
       "      <td>...</td>\n",
       "      <td>...</td>\n",
       "    </tr>\n",
       "    <tr>\n",
       "      <th>387</th>\n",
       "      <td>5645737</td>\n",
       "      <td>1900.0000</td>\n",
       "      <td>B</td>\n",
       "    </tr>\n",
       "    <tr>\n",
       "      <th>388</th>\n",
       "      <td>5651566</td>\n",
       "      <td>1900.0000</td>\n",
       "      <td>B</td>\n",
       "    </tr>\n",
       "    <tr>\n",
       "      <th>389</th>\n",
       "      <td>5662322</td>\n",
       "      <td>1900.0000</td>\n",
       "      <td>B</td>\n",
       "    </tr>\n",
       "    <tr>\n",
       "      <th>390</th>\n",
       "      <td>5681918</td>\n",
       "      <td>1900.0000</td>\n",
       "      <td>B</td>\n",
       "    </tr>\n",
       "    <tr>\n",
       "      <th>391</th>\n",
       "      <td>5740903</td>\n",
       "      <td>1900.0000</td>\n",
       "      <td>B</td>\n",
       "    </tr>\n",
       "  </tbody>\n",
       "</table>\n",
       "<p>392 rows × 3 columns</p>\n",
       "</div>"
      ],
      "text/plain": [
       "     student_id        rev grp\n",
       "0          1627   990.0000   A\n",
       "1        100300   990.0000   B\n",
       "2        108270   290.0000   B\n",
       "3        264473  1900.0001   B\n",
       "4        274352   690.0000   B\n",
       "..          ...        ...  ..\n",
       "387     5645737  1900.0000   B\n",
       "388     5651566  1900.0000   B\n",
       "389     5662322  1900.0000   B\n",
       "390     5681918  1900.0000   B\n",
       "391     5740903  1900.0000   B\n",
       "\n",
       "[392 rows x 3 columns]"
      ]
     },
     "execution_count": 40,
     "metadata": {},
     "output_type": "execute_result"
    }
   ],
   "source": [
    "active_and_checks = checks.merge(active_all, on = 'student_id', how='left').dropna().reset_index(drop=True)\n",
    "active_and_checks"
   ]
  },
  {
   "cell_type": "code",
   "execution_count": 41,
   "id": "a271c68d",
   "metadata": {},
   "outputs": [],
   "source": [
    "active_and_checks_A = active_and_checks.query(\"grp == 'A'\")\n",
    "active_and_checks_B = active_and_checks.query(\"grp == 'B'\")"
   ]
  },
  {
   "cell_type": "markdown",
   "id": "97bc4474",
   "metadata": {},
   "source": [
    "Посмотрим на основные метрики по группам"
   ]
  },
  {
   "cell_type": "code",
   "execution_count": 42,
   "id": "505194cf",
   "metadata": {},
   "outputs": [
    {
     "data": {
      "text/html": [
       "<div>\n",
       "<style scoped>\n",
       "    .dataframe tbody tr th:only-of-type {\n",
       "        vertical-align: middle;\n",
       "    }\n",
       "\n",
       "    .dataframe tbody tr th {\n",
       "        vertical-align: top;\n",
       "    }\n",
       "\n",
       "    .dataframe thead tr th {\n",
       "        text-align: left;\n",
       "    }\n",
       "\n",
       "    .dataframe thead tr:last-of-type th {\n",
       "        text-align: right;\n",
       "    }\n",
       "</style>\n",
       "<table border=\"1\" class=\"dataframe\">\n",
       "  <thead>\n",
       "    <tr>\n",
       "      <th></th>\n",
       "      <th colspan=\"5\" halign=\"left\">rev</th>\n",
       "    </tr>\n",
       "    <tr>\n",
       "      <th></th>\n",
       "      <th>count</th>\n",
       "      <th>sum</th>\n",
       "      <th>mean</th>\n",
       "      <th>median</th>\n",
       "      <th>std</th>\n",
       "    </tr>\n",
       "    <tr>\n",
       "      <th>grp</th>\n",
       "      <th></th>\n",
       "      <th></th>\n",
       "      <th></th>\n",
       "      <th></th>\n",
       "      <th></th>\n",
       "    </tr>\n",
       "  </thead>\n",
       "  <tbody>\n",
       "    <tr>\n",
       "      <th>A</th>\n",
       "      <td>78</td>\n",
       "      <td>72820.0</td>\n",
       "      <td>933.59</td>\n",
       "      <td>585.0</td>\n",
       "      <td>919.93</td>\n",
       "    </tr>\n",
       "    <tr>\n",
       "      <th>B</th>\n",
       "      <td>314</td>\n",
       "      <td>394974.0</td>\n",
       "      <td>1257.88</td>\n",
       "      <td>1140.0</td>\n",
       "      <td>790.86</td>\n",
       "    </tr>\n",
       "  </tbody>\n",
       "</table>\n",
       "</div>"
      ],
      "text/plain": [
       "      rev                                   \n",
       "    count       sum     mean  median     std\n",
       "grp                                         \n",
       "A      78   72820.0   933.59   585.0  919.93\n",
       "B     314  394974.0  1257.88  1140.0  790.86"
      ]
     },
     "execution_count": 42,
     "metadata": {},
     "output_type": "execute_result"
    }
   ],
   "source": [
    "active_and_checks.groupby('grp') \\\n",
    ".agg({'rev': ('count', 'sum', 'mean', 'median', 'std')}) \\\n",
    ".round(2)"
   ]
  },
  {
   "cell_type": "code",
   "execution_count": 43,
   "id": "a6d2b8c9",
   "metadata": {},
   "outputs": [
    {
     "data": {
      "text/plain": [
       "<seaborn.axisgrid.FacetGrid at 0x1e67ad076a0>"
      ]
     },
     "execution_count": 43,
     "metadata": {},
     "output_type": "execute_result"
    },
    {
     "data": {
      "image/png": "[encoded data removed]",
      "text/plain": [
       "<Figure size 402.875x360 with 1 Axes>"
      ]
     },
     "metadata": {
      "needs_background": "light"
     },
     "output_type": "display_data"
    }
   ],
   "source": [
    "sns.displot(data=active_and_checks, x=\"rev\", hue=\"grp\")"
   ]
  },
  {
   "cell_type": "markdown",
   "id": "4c0c7302",
   "metadata": {},
   "source": [
    "По полученным данным можно сказать:\n",
    "\n",
    "+ в группе 'В' оказалось больше пользователей, чем в группе 'А'\n",
    "+ среднее значение и медиана сильно различаются между группами, в группе 'В' оба показателя выше"
   ]
  },
  {
   "cell_type": "code",
   "execution_count": 44,
   "id": "e4071c1f",
   "metadata": {},
   "outputs": [
    {
     "data": {
      "image/png": "[encoded data removed]",
      "text/plain": [
       "<Figure size 720x288 with 2 Axes>"
      ]
     },
     "metadata": {
      "needs_background": "light"
     },
     "output_type": "display_data"
    }
   ],
   "source": [
    "plt.figure(figsize=(10, 4));\n",
    "# Одна строка, два столбца. Текущая ячейка - 1\n",
    "plt.subplot(1, 2, 1);\n",
    "plt.hist(active_and_checks.query('grp == \"A\"').rev);\n",
    "plt.title(\"grp = A\");\n",
    "\n",
    "# Одна строка, два столбца. Текущая ячейка - 2\n",
    "plt.subplot(1, 2, 2);\n",
    "plt.hist(active_and_checks.query('grp == \"B\"').rev);\n",
    "plt.title(\"grp = B\");"
   ]
  },
  {
   "cell_type": "markdown",
   "id": "4611d2a6",
   "metadata": {},
   "source": [
    "Тип данных - количественный, нам необходимо проверить средние значения, у нас есть две группы для сравнения.\n",
    "\n",
    "Для выбора подходящего метода необходимо проверить данные на нормальность."
   ]
  },
  {
   "cell_type": "code",
   "execution_count": 45,
   "id": "9c3f9bc4",
   "metadata": {},
   "outputs": [
    {
     "data": {
      "text/html": [
       "<div>\n",
       "<style scoped>\n",
       "    .dataframe tbody tr th:only-of-type {\n",
       "        vertical-align: middle;\n",
       "    }\n",
       "\n",
       "    .dataframe tbody tr th {\n",
       "        vertical-align: top;\n",
       "    }\n",
       "\n",
       "    .dataframe thead th {\n",
       "        text-align: right;\n",
       "    }\n",
       "</style>\n",
       "<table border=\"1\" class=\"dataframe\">\n",
       "  <thead>\n",
       "    <tr style=\"text-align: right;\">\n",
       "      <th></th>\n",
       "      <th>W</th>\n",
       "      <th>pval</th>\n",
       "      <th>normal</th>\n",
       "    </tr>\n",
       "  </thead>\n",
       "  <tbody>\n",
       "    <tr>\n",
       "      <th>rev</th>\n",
       "      <td>0.735324</td>\n",
       "      <td>1.498678e-10</td>\n",
       "      <td>False</td>\n",
       "    </tr>\n",
       "  </tbody>\n",
       "</table>\n",
       "</div>"
      ],
      "text/plain": [
       "            W          pval  normal\n",
       "rev  0.735324  1.498678e-10   False"
      ]
     },
     "execution_count": 45,
     "metadata": {},
     "output_type": "execute_result"
    }
   ],
   "source": [
    "pg.normality(active_and_checks_A.rev)"
   ]
  },
  {
   "cell_type": "code",
   "execution_count": 46,
   "id": "be5d9401",
   "metadata": {},
   "outputs": [
    {
     "data": {
      "image/png": "[encoded data removed]",
      "text/plain": [
       "<Figure size 432x288 with 1 Axes>"
      ]
     },
     "metadata": {
      "needs_background": "light"
     },
     "output_type": "display_data"
    }
   ],
   "source": [
    "ax_grA = pg.qqplot(active_and_checks_A.rev, dist='norm')"
   ]
  },
  {
   "cell_type": "code",
   "execution_count": 47,
   "id": "39d12bc0",
   "metadata": {},
   "outputs": [
    {
     "data": {
      "text/html": [
       "<div>\n",
       "<style scoped>\n",
       "    .dataframe tbody tr th:only-of-type {\n",
       "        vertical-align: middle;\n",
       "    }\n",
       "\n",
       "    .dataframe tbody tr th {\n",
       "        vertical-align: top;\n",
       "    }\n",
       "\n",
       "    .dataframe thead th {\n",
       "        text-align: right;\n",
       "    }\n",
       "</style>\n",
       "<table border=\"1\" class=\"dataframe\">\n",
       "  <thead>\n",
       "    <tr style=\"text-align: right;\">\n",
       "      <th></th>\n",
       "      <th>W</th>\n",
       "      <th>pval</th>\n",
       "      <th>normal</th>\n",
       "    </tr>\n",
       "  </thead>\n",
       "  <tbody>\n",
       "    <tr>\n",
       "      <th>rev</th>\n",
       "      <td>0.854724</td>\n",
       "      <td>1.543849e-16</td>\n",
       "      <td>False</td>\n",
       "    </tr>\n",
       "  </tbody>\n",
       "</table>\n",
       "</div>"
      ],
      "text/plain": [
       "            W          pval  normal\n",
       "rev  0.854724  1.543849e-16   False"
      ]
     },
     "execution_count": 47,
     "metadata": {},
     "output_type": "execute_result"
    }
   ],
   "source": [
    "pg.normality(active_and_checks_B.rev)"
   ]
  },
  {
   "cell_type": "code",
   "execution_count": 48,
   "id": "40019204",
   "metadata": {},
   "outputs": [
    {
     "data": {
      "image/png": "[encoded data removed]",
      "text/plain": [
       "<Figure size 432x288 with 1 Axes>"
      ]
     },
     "metadata": {
      "needs_background": "light"
     },
     "output_type": "display_data"
    }
   ],
   "source": [
    "ax_grB = pg.qqplot(active_and_checks_B.rev, dist='norm')"
   ]
  },
  {
   "cell_type": "code",
   "execution_count": 49,
   "id": "d817b6c3",
   "metadata": {},
   "outputs": [
    {
     "data": {
      "text/html": [
       "<div>\n",
       "<style scoped>\n",
       "    .dataframe tbody tr th:only-of-type {\n",
       "        vertical-align: middle;\n",
       "    }\n",
       "\n",
       "    .dataframe tbody tr th {\n",
       "        vertical-align: top;\n",
       "    }\n",
       "\n",
       "    .dataframe thead th {\n",
       "        text-align: right;\n",
       "    }\n",
       "</style>\n",
       "<table border=\"1\" class=\"dataframe\">\n",
       "  <thead>\n",
       "    <tr style=\"text-align: right;\">\n",
       "      <th></th>\n",
       "      <th>T</th>\n",
       "      <th>dof</th>\n",
       "      <th>alternative</th>\n",
       "      <th>p-val</th>\n",
       "      <th>CI95%</th>\n",
       "      <th>cohen-d</th>\n",
       "      <th>BF10</th>\n",
       "      <th>power</th>\n",
       "    </tr>\n",
       "  </thead>\n",
       "  <tbody>\n",
       "    <tr>\n",
       "      <th>T-test</th>\n",
       "      <td>-2.8617</td>\n",
       "      <td>106.9817</td>\n",
       "      <td>two-sided</td>\n",
       "      <td>0.0051</td>\n",
       "      <td>[-548.94, -99.64]</td>\n",
       "      <td>0.3965</td>\n",
       "      <td>6.536</td>\n",
       "      <td>0.8782</td>\n",
       "    </tr>\n",
       "  </tbody>\n",
       "</table>\n",
       "</div>"
      ],
      "text/plain": [
       "             T       dof alternative   p-val              CI95%  cohen-d  \\\n",
       "T-test -2.8617  106.9817   two-sided  0.0051  [-548.94, -99.64]   0.3965   \n",
       "\n",
       "         BF10   power  \n",
       "T-test  6.536  0.8782  "
      ]
     },
     "execution_count": 49,
     "metadata": {},
     "output_type": "execute_result"
    }
   ],
   "source": [
    "pg.ttest(active_and_checks_A.rev,active_and_checks_B.rev).round(4)"
   ]
  },
  {
   "cell_type": "markdown",
   "id": "a09c1eb4",
   "metadata": {},
   "source": [
    "Нулевая гипотеза t-test предполагает, что средние равны, так как p-val < 0.05, то мы отверагем нулевую гипотезу.\n",
    "\n",
    "---\n",
    "\n",
    "Однако, сделать однозначный вывод на данном этапе невозможно, в сравниваемых группах различное значение пользователей, а так же их количесво невелико, в соответсвии с чем можно применить бутстреп. "
   ]
  },
  {
   "cell_type": "code",
   "execution_count": 50,
   "id": "fda40342",
   "metadata": {},
   "outputs": [],
   "source": [
    "def get_bootstrap(\n",
    "    data_column_1, # числовые значения первой выборки\n",
    "    data_column_2, # числовые значения второй выборки\n",
    "    boot_it = 1000, # количество бутстрэп-подвыборок\n",
    "    statistic = np.mean, # интересующая нас статистика\n",
    "    bootstrap_conf_level = 0.95 # уровень значимости\n",
    "):\n",
    "    boot_len = max([len(data_column_1), len(data_column_2)])\n",
    "    boot_data = []\n",
    "    for i in tqdm(range(boot_it)): # извлекаем подвыборки\n",
    "        samples_1 = data_column_1.sample(\n",
    "            boot_len, \n",
    "            replace = True # параметр возвращения\n",
    "        ).values\n",
    "        \n",
    "        samples_2 = data_column_2.sample(\n",
    "            boot_len, # чтобы сохранить дисперсию, берем такой же размер выборки\n",
    "            replace = True\n",
    "        ).values\n",
    "        \n",
    "        boot_data.append(statistic(samples_1-samples_2)) \n",
    "    pd_boot_data = pd.DataFrame(boot_data)\n",
    "        \n",
    "    left_quant = (1 - bootstrap_conf_level)/2\n",
    "    right_quant = 1 - (1 - bootstrap_conf_level) / 2\n",
    "    quants = pd_boot_data.quantile([left_quant, right_quant])\n",
    "        \n",
    "    p_1 = ss.norm.cdf(\n",
    "        x = 0, \n",
    "        loc = np.mean(boot_data), \n",
    "        scale = np.std(boot_data)\n",
    "    )\n",
    "    p_2 = ss.norm.cdf(\n",
    "        x = 0, \n",
    "        loc = -np.mean(boot_data), \n",
    "        scale = np.std(boot_data)\n",
    "    )\n",
    "    p_value = min(p_1, p_2) * 2\n",
    "        \n",
    "    # Визуализация\n",
    "    _, _, bars = plt.hist(pd_boot_data[0], bins = 50)\n",
    "    for bar in bars:\n",
    "        if abs(bar.get_x()) <= quants.iloc[0][0] or abs(bar.get_x()) >= quants.iloc[1][0]:\n",
    "            bar.set_facecolor('red')\n",
    "        else: \n",
    "            bar.set_facecolor('grey')\n",
    "            bar.set_edgecolor('black')\n",
    "    \n",
    "    plt.style.use('ggplot')\n",
    "    plt.vlines(quants,ymin=0,ymax=50,linestyle='--')\n",
    "    plt.xlabel('boot_data')\n",
    "    plt.ylabel('frequency')\n",
    "    plt.title(\"Histogram of boot_data\")\n",
    "    plt.show()\n",
    "       \n",
    "    return {\"boot_data\": boot_data, \n",
    "            \"quants\": quants, \n",
    "            \"p_value\": p_value}"
   ]
  },
  {
   "cell_type": "code",
   "execution_count": 51,
   "id": "0dd0cb3f",
   "metadata": {},
   "outputs": [
    {
     "data": {
      "application/vnd.jupyter.widget-view+json": {
       "model_id": "b1f4cf6e139f4a68bbcc5b528be4e210",
       "version_major": 2,
       "version_minor": 0
      },
      "text/plain": [
       "  0%|          | 0/1000 [00:00<?, ?it/s]"
      ]
     },
     "metadata": {},
     "output_type": "display_data"
    },
    {
     "data": {
      "image/png": "[encoded data removed]",
      "text/plain": [
       "<Figure size 432x288 with 1 Axes>"
      ]
     },
     "metadata": {
      "needs_background": "light"
     },
     "output_type": "display_data"
    },
    {
     "name": "stdout",
     "output_type": "stream",
     "text": [
      "p_value: 1.1889637478403772e-06\n"
     ]
    }
   ],
   "source": [
    "booted_data = get_bootstrap(active_and_checks_A.rev, active_and_checks_B.rev)\n",
    "\n",
    "print(\"p_value:\", booted_data[\"p_value\"])"
   ]
  },
  {
   "cell_type": "markdown",
   "id": "6c164d2b",
   "metadata": {},
   "source": [
    "Получилось, что p_value < 0.05, соответвенно, мы можем утверждать, что различия между группой 'A' и 'B' есть, и они статистически обоснованы.\n"
   ]
  },
  {
   "cell_type": "markdown",
   "id": "562c61fb",
   "metadata": {},
   "source": [
    "Анализ среди __всех__ активных пользователей "
   ]
  },
  {
   "cell_type": "code",
   "execution_count": 52,
   "id": "27160877",
   "metadata": {},
   "outputs": [
    {
     "data": {
      "text/html": [
       "<div>\n",
       "<style scoped>\n",
       "    .dataframe tbody tr th:only-of-type {\n",
       "        vertical-align: middle;\n",
       "    }\n",
       "\n",
       "    .dataframe tbody tr th {\n",
       "        vertical-align: top;\n",
       "    }\n",
       "\n",
       "    .dataframe thead th {\n",
       "        text-align: right;\n",
       "    }\n",
       "</style>\n",
       "<table border=\"1\" class=\"dataframe\">\n",
       "  <thead>\n",
       "    <tr style=\"text-align: right;\">\n",
       "      <th></th>\n",
       "      <th>student_id</th>\n",
       "      <th>grp</th>\n",
       "      <th>rev</th>\n",
       "      <th>buy_or_not</th>\n",
       "    </tr>\n",
       "  </thead>\n",
       "  <tbody>\n",
       "    <tr>\n",
       "      <th>0</th>\n",
       "      <td>581585</td>\n",
       "      <td>A</td>\n",
       "      <td>0.0</td>\n",
       "      <td>not_buy</td>\n",
       "    </tr>\n",
       "    <tr>\n",
       "      <th>1</th>\n",
       "      <td>5723133</td>\n",
       "      <td>A</td>\n",
       "      <td>0.0</td>\n",
       "      <td>not_buy</td>\n",
       "    </tr>\n",
       "    <tr>\n",
       "      <th>2</th>\n",
       "      <td>3276743</td>\n",
       "      <td>B</td>\n",
       "      <td>0.0</td>\n",
       "      <td>not_buy</td>\n",
       "    </tr>\n",
       "    <tr>\n",
       "      <th>3</th>\n",
       "      <td>4238589</td>\n",
       "      <td>A</td>\n",
       "      <td>0.0</td>\n",
       "      <td>not_buy</td>\n",
       "    </tr>\n",
       "    <tr>\n",
       "      <th>4</th>\n",
       "      <td>4475369</td>\n",
       "      <td>B</td>\n",
       "      <td>0.0</td>\n",
       "      <td>not_buy</td>\n",
       "    </tr>\n",
       "    <tr>\n",
       "      <th>...</th>\n",
       "      <td>...</td>\n",
       "      <td>...</td>\n",
       "      <td>...</td>\n",
       "      <td>...</td>\n",
       "    </tr>\n",
       "    <tr>\n",
       "      <th>8336</th>\n",
       "      <td>1794344</td>\n",
       "      <td>B</td>\n",
       "      <td>0.0</td>\n",
       "      <td>not_buy</td>\n",
       "    </tr>\n",
       "    <tr>\n",
       "      <th>8337</th>\n",
       "      <td>296883</td>\n",
       "      <td>B</td>\n",
       "      <td>0.0</td>\n",
       "      <td>not_buy</td>\n",
       "    </tr>\n",
       "    <tr>\n",
       "      <th>8338</th>\n",
       "      <td>3598448</td>\n",
       "      <td>B</td>\n",
       "      <td>0.0</td>\n",
       "      <td>not_buy</td>\n",
       "    </tr>\n",
       "    <tr>\n",
       "      <th>8339</th>\n",
       "      <td>3610547</td>\n",
       "      <td>B</td>\n",
       "      <td>290.0</td>\n",
       "      <td>buy</td>\n",
       "    </tr>\n",
       "    <tr>\n",
       "      <th>8340</th>\n",
       "      <td>205705</td>\n",
       "      <td>B</td>\n",
       "      <td>0.0</td>\n",
       "      <td>not_buy</td>\n",
       "    </tr>\n",
       "  </tbody>\n",
       "</table>\n",
       "<p>8341 rows × 4 columns</p>\n",
       "</div>"
      ],
      "text/plain": [
       "      student_id grp    rev buy_or_not\n",
       "0         581585   A    0.0    not_buy\n",
       "1        5723133   A    0.0    not_buy\n",
       "2        3276743   B    0.0    not_buy\n",
       "3        4238589   A    0.0    not_buy\n",
       "4        4475369   B    0.0    not_buy\n",
       "...          ...  ..    ...        ...\n",
       "8336     1794344   B    0.0    not_buy\n",
       "8337      296883   B    0.0    not_buy\n",
       "8338     3598448   B    0.0    not_buy\n",
       "8339     3610547   B  290.0        buy\n",
       "8340      205705   B    0.0    not_buy\n",
       "\n",
       "[8341 rows x 4 columns]"
      ]
     },
     "execution_count": 52,
     "metadata": {},
     "output_type": "execute_result"
    }
   ],
   "source": [
    "active_and_buy"
   ]
  },
  {
   "cell_type": "code",
   "execution_count": 53,
   "id": "7974dea5",
   "metadata": {},
   "outputs": [],
   "source": [
    "active_A = active_and_buy.query(\"grp == 'A'\")\n",
    "active_B = active_and_buy.query(\"grp == 'B'\")"
   ]
  },
  {
   "cell_type": "code",
   "execution_count": 54,
   "id": "31d78120",
   "metadata": {},
   "outputs": [
    {
     "data": {
      "text/html": [
       "<div>\n",
       "<style scoped>\n",
       "    .dataframe tbody tr th:only-of-type {\n",
       "        vertical-align: middle;\n",
       "    }\n",
       "\n",
       "    .dataframe tbody tr th {\n",
       "        vertical-align: top;\n",
       "    }\n",
       "\n",
       "    .dataframe thead tr th {\n",
       "        text-align: left;\n",
       "    }\n",
       "\n",
       "    .dataframe thead tr:last-of-type th {\n",
       "        text-align: right;\n",
       "    }\n",
       "</style>\n",
       "<table border=\"1\" class=\"dataframe\">\n",
       "  <thead>\n",
       "    <tr>\n",
       "      <th></th>\n",
       "      <th colspan=\"5\" halign=\"left\">rev</th>\n",
       "    </tr>\n",
       "    <tr>\n",
       "      <th></th>\n",
       "      <th>count</th>\n",
       "      <th>sum</th>\n",
       "      <th>mean</th>\n",
       "      <th>median</th>\n",
       "      <th>std</th>\n",
       "    </tr>\n",
       "    <tr>\n",
       "      <th>grp</th>\n",
       "      <th></th>\n",
       "      <th></th>\n",
       "      <th></th>\n",
       "      <th></th>\n",
       "      <th></th>\n",
       "    </tr>\n",
       "  </thead>\n",
       "  <tbody>\n",
       "    <tr>\n",
       "      <th>A</th>\n",
       "      <td>1538</td>\n",
       "      <td>72820.0</td>\n",
       "      <td>47.35</td>\n",
       "      <td>0.0</td>\n",
       "      <td>290.49</td>\n",
       "    </tr>\n",
       "    <tr>\n",
       "      <th>B</th>\n",
       "      <td>6803</td>\n",
       "      <td>394974.0</td>\n",
       "      <td>58.06</td>\n",
       "      <td>0.0</td>\n",
       "      <td>313.77</td>\n",
       "    </tr>\n",
       "  </tbody>\n",
       "</table>\n",
       "</div>"
      ],
      "text/plain": [
       "      rev                                \n",
       "    count       sum   mean median     std\n",
       "grp                                      \n",
       "A    1538   72820.0  47.35    0.0  290.49\n",
       "B    6803  394974.0  58.06    0.0  313.77"
      ]
     },
     "execution_count": 54,
     "metadata": {},
     "output_type": "execute_result"
    }
   ],
   "source": [
    "active_and_buy.groupby('grp') \\\n",
    ".agg({'rev': ('count', 'sum', 'mean', 'median', 'std')}) \\\n",
    ".round(2)"
   ]
  },
  {
   "cell_type": "code",
   "execution_count": 55,
   "id": "c907be05",
   "metadata": {},
   "outputs": [
    {
     "data": {
      "text/plain": [
       "<seaborn.axisgrid.FacetGrid at 0x1e67d1617f0>"
      ]
     },
     "execution_count": 55,
     "metadata": {},
     "output_type": "execute_result"
    },
    {
     "data": {
      "image/png": "[encoded data removed]",
      "text/plain": [
       "<Figure size 402.875x360 with 1 Axes>"
      ]
     },
     "metadata": {},
     "output_type": "display_data"
    }
   ],
   "source": [
    "sns.displot(data=active_and_buy, x=\"rev\", hue=\"grp\")"
   ]
  },
  {
   "cell_type": "code",
   "execution_count": 56,
   "id": "13516922",
   "metadata": {},
   "outputs": [
    {
     "data": {
      "image/png": "[encoded data removed]",
      "text/plain": [
       "<Figure size 720x288 with 2 Axes>"
      ]
     },
     "metadata": {},
     "output_type": "display_data"
    }
   ],
   "source": [
    "plt.figure(figsize=(10, 4));\n",
    "# Одна строка, два столбца. Текущая ячейка - 1\n",
    "plt.subplot(1, 2, 1);\n",
    "plt.hist(active_and_buy.query('grp == \"A\"').rev);\n",
    "plt.title(\"grp = A\");\n",
    "\n",
    "# Одна строка, два столбца. Текущая ячейка - 2\n",
    "plt.subplot(1, 2, 2);\n",
    "plt.hist(active_and_buy.query('grp == \"B\"').rev);\n",
    "plt.title(\"grp = B\");"
   ]
  },
  {
   "cell_type": "code",
   "execution_count": 57,
   "id": "278fca58",
   "metadata": {},
   "outputs": [
    {
     "data": {
      "text/html": [
       "<div>\n",
       "<style scoped>\n",
       "    .dataframe tbody tr th:only-of-type {\n",
       "        vertical-align: middle;\n",
       "    }\n",
       "\n",
       "    .dataframe tbody tr th {\n",
       "        vertical-align: top;\n",
       "    }\n",
       "\n",
       "    .dataframe thead th {\n",
       "        text-align: right;\n",
       "    }\n",
       "</style>\n",
       "<table border=\"1\" class=\"dataframe\">\n",
       "  <thead>\n",
       "    <tr style=\"text-align: right;\">\n",
       "      <th></th>\n",
       "      <th>W</th>\n",
       "      <th>pval</th>\n",
       "      <th>normal</th>\n",
       "    </tr>\n",
       "  </thead>\n",
       "  <tbody>\n",
       "    <tr>\n",
       "      <th>rev</th>\n",
       "      <td>0.154167</td>\n",
       "      <td>0.0</td>\n",
       "      <td>False</td>\n",
       "    </tr>\n",
       "  </tbody>\n",
       "</table>\n",
       "</div>"
      ],
      "text/plain": [
       "            W  pval  normal\n",
       "rev  0.154167   0.0   False"
      ]
     },
     "execution_count": 57,
     "metadata": {},
     "output_type": "execute_result"
    }
   ],
   "source": [
    "pg.normality(active_A.rev)"
   ]
  },
  {
   "cell_type": "code",
   "execution_count": 58,
   "id": "e5e75d4e",
   "metadata": {},
   "outputs": [
    {
     "data": {
      "image/png": "[encoded data removed]",
      "text/plain": [
       "<Figure size 432x288 with 1 Axes>"
      ]
     },
     "metadata": {},
     "output_type": "display_data"
    }
   ],
   "source": [
    "ax_grA = pg.qqplot(active_A.rev, dist='norm')"
   ]
  },
  {
   "cell_type": "code",
   "execution_count": 59,
   "id": "d4ccf153",
   "metadata": {},
   "outputs": [
    {
     "data": {
      "text/html": [
       "<div>\n",
       "<style scoped>\n",
       "    .dataframe tbody tr th:only-of-type {\n",
       "        vertical-align: middle;\n",
       "    }\n",
       "\n",
       "    .dataframe tbody tr th {\n",
       "        vertical-align: top;\n",
       "    }\n",
       "\n",
       "    .dataframe thead th {\n",
       "        text-align: right;\n",
       "    }\n",
       "</style>\n",
       "<table border=\"1\" class=\"dataframe\">\n",
       "  <thead>\n",
       "    <tr style=\"text-align: right;\">\n",
       "      <th></th>\n",
       "      <th>W</th>\n",
       "      <th>pval</th>\n",
       "      <th>normal</th>\n",
       "    </tr>\n",
       "  </thead>\n",
       "  <tbody>\n",
       "    <tr>\n",
       "      <th>rev</th>\n",
       "      <td>547732.488043</td>\n",
       "      <td>0.0</td>\n",
       "      <td>False</td>\n",
       "    </tr>\n",
       "  </tbody>\n",
       "</table>\n",
       "</div>"
      ],
      "text/plain": [
       "                 W  pval  normal\n",
       "rev  547732.488043   0.0   False"
      ]
     },
     "execution_count": 59,
     "metadata": {},
     "output_type": "execute_result"
    }
   ],
   "source": [
    "pg.normality(active_B.rev, method=\"jarque_bera\")"
   ]
  },
  {
   "cell_type": "code",
   "execution_count": 60,
   "id": "2b9204ac",
   "metadata": {},
   "outputs": [
    {
     "data": {
      "image/png": "[encoded data removed]",
      "text/plain": [
       "<Figure size 432x288 with 1 Axes>"
      ]
     },
     "metadata": {},
     "output_type": "display_data"
    }
   ],
   "source": [
    "ax_grA = pg.qqplot(active_B.rev, dist='norm')"
   ]
  },
  {
   "cell_type": "markdown",
   "id": "dcfbadd0",
   "metadata": {},
   "source": [
    "Данные не прошли проверку на нормальность, используем t-test"
   ]
  },
  {
   "cell_type": "code",
   "execution_count": 61,
   "id": "adc11a65",
   "metadata": {},
   "outputs": [
    {
     "data": {
      "text/html": [
       "<div>\n",
       "<style scoped>\n",
       "    .dataframe tbody tr th:only-of-type {\n",
       "        vertical-align: middle;\n",
       "    }\n",
       "\n",
       "    .dataframe tbody tr th {\n",
       "        vertical-align: top;\n",
       "    }\n",
       "\n",
       "    .dataframe thead th {\n",
       "        text-align: right;\n",
       "    }\n",
       "</style>\n",
       "<table border=\"1\" class=\"dataframe\">\n",
       "  <thead>\n",
       "    <tr style=\"text-align: right;\">\n",
       "      <th></th>\n",
       "      <th>T</th>\n",
       "      <th>dof</th>\n",
       "      <th>alternative</th>\n",
       "      <th>p-val</th>\n",
       "      <th>CI95%</th>\n",
       "      <th>cohen-d</th>\n",
       "      <th>BF10</th>\n",
       "      <th>power</th>\n",
       "    </tr>\n",
       "  </thead>\n",
       "  <tbody>\n",
       "    <tr>\n",
       "      <th>T-test</th>\n",
       "      <td>-1.286</td>\n",
       "      <td>2416.748</td>\n",
       "      <td>two-sided</td>\n",
       "      <td>0.198</td>\n",
       "      <td>[-27.04, 5.62]</td>\n",
       "      <td>0.035</td>\n",
       "      <td>0.073</td>\n",
       "      <td>0.232</td>\n",
       "    </tr>\n",
       "  </tbody>\n",
       "</table>\n",
       "</div>"
      ],
      "text/plain": [
       "            T       dof alternative  p-val           CI95%  cohen-d   BF10  \\\n",
       "T-test -1.286  2416.748   two-sided  0.198  [-27.04, 5.62]    0.035  0.073   \n",
       "\n",
       "        power  \n",
       "T-test  0.232  "
      ]
     },
     "execution_count": 61,
     "metadata": {},
     "output_type": "execute_result"
    }
   ],
   "source": [
    "pg.ttest(active_A.rev, active_B.rev).round(3)"
   ]
  },
  {
   "cell_type": "markdown",
   "id": "43ea22c2",
   "metadata": {},
   "source": [
    "Нулевая гипотеза t-test предполагает, что средние равны, так как p-val > 0.05, то мы принимаем нулевую гипотезу, то есть средние значения покупки среди всех активных пользователей одинаковы."
   ]
  },
  {
   "cell_type": "markdown",
   "id": "765d410c",
   "metadata": {},
   "source": [
    "### Расчет CR, ARPPU и ARPU\n",
    "\n",
    "---\n",
    "\n",
    "Посмотрим отличается ли метрика CR, ARPPU, ARPU между двумя группами 'А' и 'В' \n",
    "\n",
    "Коэффициент конверсии CR это процент перехода в целевое действие (в нашем случае в оплату) \n",
    "\n",
    "ARPPU это средний доход на платящего пользователя \n",
    "\n",
    "ARPU это средний доход с привлечённого пользователя"
   ]
  },
  {
   "cell_type": "code",
   "execution_count": 62,
   "id": "81e56acb",
   "metadata": {},
   "outputs": [
    {
     "data": {
      "text/html": [
       "<div>\n",
       "<style scoped>\n",
       "    .dataframe tbody tr th:only-of-type {\n",
       "        vertical-align: middle;\n",
       "    }\n",
       "\n",
       "    .dataframe tbody tr th {\n",
       "        vertical-align: top;\n",
       "    }\n",
       "\n",
       "    .dataframe thead th {\n",
       "        text-align: right;\n",
       "    }\n",
       "</style>\n",
       "<table border=\"1\" class=\"dataframe\">\n",
       "  <thead>\n",
       "    <tr style=\"text-align: right;\">\n",
       "      <th></th>\n",
       "      <th>grp</th>\n",
       "      <th>rev_all</th>\n",
       "      <th>student_count_buy</th>\n",
       "      <th>CR</th>\n",
       "      <th>ARPPU</th>\n",
       "      <th>ARPU</th>\n",
       "    </tr>\n",
       "  </thead>\n",
       "  <tbody>\n",
       "    <tr>\n",
       "      <th>0</th>\n",
       "      <td>A</td>\n",
       "      <td>72820.0000</td>\n",
       "      <td>78</td>\n",
       "      <td>5.07</td>\n",
       "      <td>933.59</td>\n",
       "      <td>47.33</td>\n",
       "    </tr>\n",
       "    <tr>\n",
       "      <th>1</th>\n",
       "      <td>B</td>\n",
       "      <td>394974.0035</td>\n",
       "      <td>314</td>\n",
       "      <td>4.62</td>\n",
       "      <td>1257.88</td>\n",
       "      <td>58.11</td>\n",
       "    </tr>\n",
       "  </tbody>\n",
       "</table>\n",
       "</div>"
      ],
      "text/plain": [
       "  grp      rev_all  student_count_buy    CR    ARPPU   ARPU\n",
       "0   A   72820.0000                 78  5.07   933.59  47.33\n",
       "1   B  394974.0035                314  4.62  1257.88  58.11"
      ]
     },
     "execution_count": 62,
     "metadata": {},
     "output_type": "execute_result"
    }
   ],
   "source": [
    "for_cr = buyers_count.pivot(index='grp', columns='buy_or_not', values='buyers_count') \\\n",
    ".reset_index()\n",
    "\n",
    "metrics = active_and_checks.groupby(['grp'], as_index=False) \\\n",
    ".agg({'rev': 'sum', 'student_id': 'count'}) \\\n",
    ".rename(columns={'student_id': 'student_count_buy', 'rev': 'rev_all'})\n",
    "metrics['CR'] = ((for_cr.buy / (for_cr.buy + for_cr.not_buy)) * 100).round(2)\n",
    "metrics['ARPPU'] = (metrics.rev_all / metrics.student_count_buy).round(2)\n",
    "metrics['ARPU'] = ((metrics.CR/100) * metrics.ARPPU).round(2)\n",
    "metrics"
   ]
  },
  {
   "cell_type": "markdown",
   "id": "153cfa75",
   "metadata": {},
   "source": [
    "Данные конверсий CR отличаются, но судя по статистическому анализу, эти различия несущесвенны, так как количесво покупающих и не покупающих пользователь после введения нового экрана оплаты не изменилось. \n",
    "\n",
    "Значение ARPPU для группы 'В' оказалось выше, судя по статистическому анализу эти различия являются статистически важными.\n",
    "\n",
    "Значение ARPU для группы 'В' оказалось выше, но судя по статистическому анализу эти различия __не__ являются статистически важными."
   ]
  },
  {
   "cell_type": "markdown",
   "id": "b8b69af0",
   "metadata": {},
   "source": [
    "### Выводы:\n",
    "\n",
    "\n",
    "1. Новый экран оплаты не оказал влияния на факт покупки, что подтвердил анализ по критерию Хи-квадрат, в соответвии с чем и на конверсию, стоит обратить внимание на воронку продаж, для более детального анализа этого процесса необходимо больше данных, на текущий момент сказать почему так происходит невозможно. \n",
    "\n",
    "\n",
    "2. Метрика ARPPU для группы 'В' оказались выше (1257.88), чем для 'А' (933.59), можно сделать вывод, что новый экран повлиял на эти показатели, статистическую значимость этих измений подтвердил T-test и бутстреп.\n",
    "\n",
    "\n",
    "3. Метрика ARPU хоть и оказалась выше, но статистически этот показатель не имеет значимости.\n",
    "\n",
    "\n",
    "По идее, пользователь попадает на экран оплаты в момент решения купить ему услугу или нет, поэтому конверсия практически не изменилась в период проведения эксперимента, ведь пользователь не видит новый экран, если не собирается совершить покупку, так же наверняка на сайте сущесвуют различные виды услуг, соответвенно разные цены, так как метрика ARPPU увеличились, можно предположить, что новая механика оплаты положительно влияет на покупку более дорогих услуг. \n",
    "\n",
    "Однако, в данных присутвуют пользователи купившие на сумму около 2000, причем только в группе 'В', с чем связанно данное явление не ясно, возможно это выброс, возможно только на новом экране оплаты появилась услуга по этой цене. \n",
    "\n",
    "Так же в данных обнаружены пользователи, купившие услуги, но по каким-то причинам не попавшие в активные.\n",
    "\n",
    "В соответствии с вышеперечисленным считаю, что необходимо разобраться со сбром данных, проверить аномальные покупки на сумму около 2000 рублей и обратить внимание на воронку продаж, новую механику на данном этапе вводить опасно, рекомендую продолжить тестирование."
   ]
  },
  {
   "cell_type": "markdown",
   "id": "62a2787e",
   "metadata": {},
   "source": [
    "## Задание 2. SQL\n",
    "### 2.1 Очень усердные ученики.\n",
    "\n",
    "#### 2.1.1 Условие\n",
    "\n",
    "Образовательные курсы состоят из различных уроков, каждый из которых состоит из нескольких маленьких заданий. Каждое такое маленькое задание называется \"горошиной\".\n",
    "\n",
    "Назовём очень усердным учеником того пользователя, который хотя бы раз за текущий месяц правильно решил 20 горошин.\n",
    "\n",
    "#### 2.1.2 Задача\n",
    "\n",
    "Дана таблица default.peas:\n",
    "\n",
    "| Название атрибута  | Тип атрибута  | Смысловое значение                      |\n",
    "|:------------------ |:--------------| :---------------------------------------|\n",
    "| st_id              | int           | ID ученика                              |\n",
    "| timest             | timestamp     | Время решения карточки                  |\n",
    "| correct            | bool          | Правильно ли решена горошина?           |\n",
    "| subject            | text          | Дисциплина, в которой находится горошина|\n",
    "\n",
    "\t\n",
    "Необходимо написать *__оптимальный__* запрос, который даст информацию о количестве очень усердных студентов.\n",
    "\n",
    "_NB! Под усердным студентом мы понимаем студента, который правильно решил 20 задач за текущий месяц._\n",
    "\n"
   ]
  },
  {
   "cell_type": "markdown",
   "id": "d3440a72",
   "metadata": {},
   "source": [
    "Подключаемся к clickhouse.lab.karpov.courses для выполнения SQL-запрсов в среде Python"
   ]
  },
  {
   "cell_type": "code",
   "execution_count": 63,
   "id": "caed71a7",
   "metadata": {},
   "outputs": [],
   "source": [
    "connection = {'host': 'https://clickhouse.lab.karpov.courses/',\n",
    "                      'database':'default',\n",
    "                      'user':'student', \n",
    "                      'password':'dpo_python_2020'\n",
    "                     }"
   ]
  },
  {
   "cell_type": "markdown",
   "id": "5243994c",
   "metadata": {},
   "source": [
    "Создаем запрос"
   ]
  },
  {
   "cell_type": "code",
   "execution_count": 64,
   "id": "8bd4bafe",
   "metadata": {},
   "outputs": [
    {
     "data": {
      "text/html": [
       "<div>\n",
       "<style scoped>\n",
       "    .dataframe tbody tr th:only-of-type {\n",
       "        vertical-align: middle;\n",
       "    }\n",
       "\n",
       "    .dataframe tbody tr th {\n",
       "        vertical-align: top;\n",
       "    }\n",
       "\n",
       "    .dataframe thead th {\n",
       "        text-align: right;\n",
       "    }\n",
       "</style>\n",
       "<table border=\"1\" class=\"dataframe\">\n",
       "  <thead>\n",
       "    <tr style=\"text-align: right;\">\n",
       "      <th></th>\n",
       "      <th>diligent_student</th>\n",
       "    </tr>\n",
       "  </thead>\n",
       "  <tbody>\n",
       "    <tr>\n",
       "      <th>0</th>\n",
       "      <td>136</td>\n",
       "    </tr>\n",
       "  </tbody>\n",
       "</table>\n",
       "</div>"
      ],
      "text/plain": [
       "   diligent_student\n",
       "0               136"
      ]
     },
     "execution_count": 64,
     "metadata": {},
     "output_type": "execute_result"
    }
   ],
   "source": [
    "query_1 = \"\"\"\n",
    "SELECT \n",
    "    COUNT(st_id) AS diligent_student\n",
    "    \n",
    "FROM \n",
    "    (SELECT \n",
    "    st_id,\n",
    "    SUM(correct) AS correct_solution\n",
    "    FROM\n",
    "    default.peas\n",
    "    WHERE \n",
    "    toUnixTimestamp(timest) > toUnixTimestamp(date_sub(timest, interval 1 month))\n",
    "    GROUP BY\n",
    "    st_id\n",
    "    HAVING \n",
    "    correct_solution >= 20)\n",
    "\n",
    "\n",
    "\n",
    "    \"\"\"\n",
    "# отправляем запрос и записываем результат в пандасовский датафрейм\n",
    "diligent_students = ph.read_clickhouse(query_1, connection=connection)\n",
    "diligent_students"
   ]
  },
  {
   "cell_type": "markdown",
   "id": "c799afce",
   "metadata": {},
   "source": [
    "Получаем, что студенов, правильно решивших 20 \"горошин\" 136 на текущее время, если бы было необходимо найти студетов в обновляемой базе данных, можно было бы использовать запрос:\n",
    "\n",
    "+ EXTRACT(MONTH FROM timest) = EXTRACT(MONTH FROM DATE_TRUNC('month', NOW()::DATE))\n",
    "\n",
    "Так мы получали бы актуальную информацию об успешных студентах."
   ]
  },
  {
   "cell_type": "markdown",
   "id": "8890ffff",
   "metadata": {},
   "source": [
    "### 2.2 Оптимизация воронки\n",
    "\n",
    "#### 2.2.1 Условие\n",
    "\n",
    "Образовательная платформа предлагает пройти студентам курсы по модели trial: студент может решить бесплатно лишь 30 горошин в день. Для неограниченного количества заданий в определенной дисциплине студенту необходимо приобрести полный доступ. Команда провела эксперимент, где был протестирован новый экран оплаты.\n",
    "\n",
    "#### 2.2.2 Задача\n",
    "\n",
    "Дана таблицы: default.peas (см. выше), \n",
    "\n",
    "default.studs:\n",
    "\n",
    "| Название атрибута  | Тип атрибута  | Смысловое значение                      |\n",
    "|:------------------ |:--------------| :---------------------------------------|\n",
    "| st_id              | int           | ID ученика                              |\n",
    "| test_grp           | text          |  Метка ученика в данном эксперименте    |\n",
    "\n",
    "\n",
    "\n",
    "и default.final_project_check:\n",
    "\n",
    "\n",
    "| Название атрибута  | Тип атрибута  | Смысловое значение                      |\n",
    "|:------------------ |:--------------| :---------------------------------------|\n",
    "| st_id              | int           | ID ученика                              |\n",
    "| sale_time          | timestamp     | Время покупки                           |\n",
    "| money              | int           | Цена, по которой приобрели данный курс  |\n",
    "| subject\t         | text \t     |                                         |\n",
    "\t\n",
    "\n",
    "Необходимо в одном запросе выгрузить следующую информацию о группах пользователей:\n",
    "\n",
    "+ ARPU \n",
    "+ ARPAU \n",
    "+ CR в покупку \n",
    "+ СR активного пользователя в покупку \n",
    "+ CR пользователя из активности по математике (subject = ’math’) в покупку курса по математике\n",
    "\n",
    "ARPU считается относительно всех пользователей, попавших в группы.\n",
    "\n",
    "*__Активным__ считается пользователь, за все время решивший больше 10 задач правильно в любых дисциплинах.*\n",
    "\n",
    "*__Активным__ по математике считается пользователь, за все время решивший 2 или больше задач правильно по математике.*"
   ]
  },
  {
   "cell_type": "code",
   "execution_count": 65,
   "id": "0db370b0",
   "metadata": {},
   "outputs": [
    {
     "data": {
      "text/html": [
       "<div>\n",
       "<style scoped>\n",
       "    .dataframe tbody tr th:only-of-type {\n",
       "        vertical-align: middle;\n",
       "    }\n",
       "\n",
       "    .dataframe tbody tr th {\n",
       "        vertical-align: top;\n",
       "    }\n",
       "\n",
       "    .dataframe thead th {\n",
       "        text-align: right;\n",
       "    }\n",
       "</style>\n",
       "<table border=\"1\" class=\"dataframe\">\n",
       "  <thead>\n",
       "    <tr style=\"text-align: right;\">\n",
       "      <th></th>\n",
       "      <th>test_grp</th>\n",
       "      <th>ARPU</th>\n",
       "      <th>ARPAU</th>\n",
       "      <th>CR</th>\n",
       "      <th>active_CR</th>\n",
       "      <th>math_active_CR</th>\n",
       "    </tr>\n",
       "  </thead>\n",
       "  <tbody>\n",
       "    <tr>\n",
       "      <th>0</th>\n",
       "      <td>control</td>\n",
       "      <td>4540.983607</td>\n",
       "      <td>10393.700787</td>\n",
       "      <td>0.049180</td>\n",
       "      <td>0.110236</td>\n",
       "      <td>0.061224</td>\n",
       "    </tr>\n",
       "    <tr>\n",
       "      <th>1</th>\n",
       "      <td>pilot</td>\n",
       "      <td>11508.474576</td>\n",
       "      <td>29739.583333</td>\n",
       "      <td>0.108475</td>\n",
       "      <td>0.260417</td>\n",
       "      <td>0.095238</td>\n",
       "    </tr>\n",
       "  </tbody>\n",
       "</table>\n",
       "</div>"
      ],
      "text/plain": [
       "  test_grp          ARPU         ARPAU        CR  active_CR  math_active_CR\n",
       "0  control   4540.983607  10393.700787  0.049180   0.110236        0.061224\n",
       "1    pilot  11508.474576  29739.583333  0.108475   0.260417        0.095238"
      ]
     },
     "execution_count": 65,
     "metadata": {},
     "output_type": "execute_result"
    }
   ],
   "source": [
    "query_2 = \"\"\"\n",
    "SELECT \n",
    "        test_grp,\n",
    "        \n",
    "        SUM(final.money) / uniqExact(studs.st_id) AS ARPU,\n",
    "        \n",
    "        SUMIf(final.money, \n",
    "               peas.correct_solution > 10) \n",
    "        / \n",
    "        uniqIf(studs.st_id, \n",
    "               peas.correct_solution > 10) AS ARPAU,\n",
    "        \n",
    "        uniqIf(studs.st_id, \n",
    "               final.money != 0) \n",
    "        / \n",
    "        uniqExact(studs.st_id) AS CR,    \n",
    "               \n",
    "        uniqIf(studs.st_id, \n",
    "            final.money != 0 and \n",
    "            peas.correct_solution > 10) \n",
    "        / \n",
    "        uniqIf(studs.st_id, \n",
    "            peas.correct_solution > 10) AS active_CR,\n",
    "        \n",
    "        uniqIf(studs.st_id, \n",
    "            final.subject = 'Math' and \n",
    "            final.money != 0 and \n",
    "            peas.active_in_math >= 2) \n",
    "            /\n",
    "        uniqIf(studs.st_id, \n",
    "            peas.active_in_math >= 2) AS math_active_CR\n",
    "                        \n",
    "FROM \n",
    "    studs AS studs\n",
    "        \n",
    "LEFT JOIN                          //* джойним для получения информации об оплате //*\n",
    "    final_project_check AS final\n",
    "ON \n",
    "    studs.st_id = final.st_id\n",
    "        \n",
    "LEFT JOIN                          //* джойним для получения информации о выполненых \"горошинах\" //*\n",
    "    (\n",
    "        SELECT \n",
    "            st_id, \n",
    "            SUMIf(correct, subject = 'Math') AS active_in_math, //* отдельно счиатем математиков //*\n",
    "            \n",
    "            SUM(correct) AS correct_solution                    //* счиатем количесво выполненных заданий //*\n",
    "                                                                //* (в этой ячейке 0 или 1) //*\n",
    "            \n",
    "        FROM \n",
    "            peas\n",
    "        GROUP BY \n",
    "            st_id\n",
    "            \n",
    "    ) AS peas \n",
    "        \n",
    "ON \n",
    "    studs.st_id = peas.st_id\n",
    "\n",
    "GROUP BY      //* групируем по группам //*\n",
    "    test_grp\n",
    "\n",
    "\n",
    "\n",
    "    \"\"\"\n",
    "# отправляем запрос и записываем результат в пандасовский датафрейм\n",
    "metric = ph.read_clickhouse(query_2, connection=connection)\n",
    "metric "
   ]
  },
  {
   "cell_type": "markdown",
   "id": "d3a1b119",
   "metadata": {},
   "source": [
    "## Задание 3. Python\n",
    "### 3.1 Задача\n",
    "\n",
    "1. Реализуйте функцию, которая будет автоматически подгружать информацию из дополнительного файла groups_add.csv (заголовки могут отличаться) и на основании дополнительных параметров пересчитывать метрики.\n",
    "\n",
    "\n",
    "2. Реализуйте функцию, которая будет строить графики по получаемым метрикам."
   ]
  },
  {
   "cell_type": "code",
   "execution_count": 66,
   "id": "4b9a1c38",
   "metadata": {},
   "outputs": [],
   "source": [
    "def funq():\n",
    "    #загрузка основых датасетов\n",
    "    groups_func = pd.read_csv('groups.csv', sep=';', header=0, names=['id', 'grp'])\n",
    "    active_studs_func = pd.read_csv('active_studs.csv', header=0, names=['id'])\n",
    "    checks_func = pd.read_csv('checks.csv', sep=';', header=0, names=['id', 'rev'])\n",
    "    \n",
    "    #удалим возможные дубликаты \n",
    "    groups_func = groups_func.drop_duplicates(keep=False);\n",
    "    active_studs_func = active_studs_func.drop_duplicates(keep=False);\n",
    "    checks_func = checks_func.drop_duplicates(keep=False);\n",
    "    \n",
    "    #во избежании падения кода, добавим функцию с проверкой, есть ли файл с обновлениями \n",
    "    try:\n",
    "        groups_add_file = pd.read_csv(groups_add_df, header=0, names=['id', 'grp'])\n",
    "        groups_func = pd.concat([groups_add_file, groups_func])\n",
    "        print('Файл найден')\n",
    "    except NameError:\n",
    "        print('Файл отсутвует')\n",
    "        \n",
    "    #создадим датафрейм с активными пользователями \n",
    "    active_all_func = active_studs_func.merge(groups_func, on = 'id', how='left')\n",
    "    active_all_func = active_all_func.drop_duplicates(keep=False);\n",
    "    active_all_func = active_all_func.dropna().reset_index(drop=True) \n",
    "    \n",
    "    #создадим датафрейм с активными пользователями и покупаками    \n",
    "    active_and_buy_func = active_all_func.merge(checks_func, on = 'id', how='left')\n",
    "    active_and_buy_func = active_and_buy_func.drop_duplicates(keep=False);\n",
    "    active_and_buy_func = active_and_buy_func.reset_index(drop=True) \n",
    "    \n",
    "    #добавим колонки с разделенем buy/not_buy, а так же отсутвующие значения зоплним нулями \n",
    "    active_and_buy_func = active_all_func.merge(checks_func, on = 'id', how='left')\n",
    "    active_and_buy_func['buy_or_not'] = active_and_buy_func.rev.notnull()\n",
    "    active_and_buy_func['buy_or_not'] = active_and_buy_func.buy_or_not.replace(False, 'not_buy')\n",
    "    active_and_buy_func['buy_or_not'] = active_and_buy_func.buy_or_not.replace(True, 'buy')\n",
    "    active_and_buy_func['rev'] = active_and_buy_func.rev.fillna(0)\n",
    "    \n",
    "    #создадим датафрейм с подсчетом суммы покупок по группам\n",
    "    buyers_count_func = active_and_buy_func.groupby(['grp', 'buy_or_not'], as_index=False) \\\n",
    "    .agg({'rev': 'count'}) \\\n",
    "    .rename(columns={'rev': 'buyers_count'}).dropna().reset_index(drop=True) \n",
    "    \n",
    "     #создадим датафрейм с активными пользователями, которые проводили оплату\n",
    "    active_and_checks_func = checks_func.merge(active_all_func, on = 'id', how='left') \\\n",
    "    .dropna().reset_index(drop=True)\n",
    "    \n",
    "     \n",
    "    #критерий Хи-квадрат  \n",
    "    \n",
    "    # 2) A-покупка,\n",
    "    A_buy_func = buyers_count_func.query(\"buy_or_not == 'buy' and grp == 'A'\")\n",
    "    A_buy_func = A_buy_func.buyers_count[0]\n",
    "    # A-без покупки,\n",
    "    A_not_buy_func = buyers_count_func.query(\"buy_or_not == 'not_buy' and grp == 'A'\")\n",
    "    A_not_buy_func = A_not_buy_func.buyers_count[1]\n",
    "    # B-покупка,\n",
    "    B_buy_func = buyers_count_func.query(\"buy_or_not == 'buy' and grp == 'B'\")\n",
    "    B_buy_func = B_buy_func.buyers_count[2]\n",
    "    # B-без покупки\n",
    "    B_not_buy_func = buyers_count_func.query(\"buy_or_not == 'not_buy' and grp == 'B'\")\n",
    "    B_not_buy_func = B_not_buy_func.buyers_count[3]\n",
    "    \n",
    "    T_func = np.array([[A_buy_func, A_not_buy_func], [B_buy_func, B_not_buy_func]])\n",
    "    chi = ss.chi2_contingency(T_func,correction=False)\n",
    "    chi = chi.pvalue.round(3)\n",
    "    \n",
    "    #U-критерий Манна-Уитни\n",
    "    purchase_grA_func = active_and_checks_func.query(\"grp == 'A'\")\n",
    "    purchase_grA_func = purchase_grA_func.rev\n",
    "    purchase_grB_func = active_and_checks_func.query(\"grp == 'B'\")\n",
    "    purchase_grB_func = purchase_grB_func.rev\n",
    "    mwu = ss.mannwhitneyu(purchase_grA_func, purchase_grB_func, \n",
    "                          use_continuity=True, alternative='two-sided')\n",
    "    mwu = mwu.pvalue.round(5)\n",
    "    \n",
    "    #вычисление метрик \n",
    "    for_cr_func = buyers_count_func.pivot(index='grp', columns='buy_or_not', values='buyers_count') \\\n",
    "    .reset_index()\n",
    "\n",
    "    metrics_func = active_and_checks_func.groupby(['grp'], as_index=False) \\\n",
    "    .agg({'rev': 'sum', 'id': 'count'}) \\\n",
    "    .rename(columns={'id': 'student_count_buy', 'rev': 'rev_all'})\n",
    "    metrics_func['CR'] = ((for_cr_func.buy / (for_cr_func.buy + for_cr_func.not_buy)) * 100).round(2)\n",
    "    metrics_func['ARPPU'] = (metrics_func.rev_all / metrics_func.student_count_buy ).round(2)\n",
    "    metrics_func['ARPU'] = ((metrics_func.CR / 100)  * metrics_func.ARPPU).round(2)\n",
    " \n",
    "    \n",
    "    return chi, mwu, metrics_func"
   ]
  },
  {
   "cell_type": "code",
   "execution_count": 67,
   "id": "7540a37c",
   "metadata": {},
   "outputs": [
    {
     "name": "stdout",
     "output_type": "stream",
     "text": [
      "Файл отсутвует\n",
      "Метрики rev_all(общая сумма заработка), student_count(количество студентов), CR, ARPPU, ARPU \n",
      "\n",
      "   grp      rev_all  student_count_buy    CR    ARPPU   ARPU\n",
      "0   A   72820.0000                 78  5.08   933.59  47.43\n",
      "1   B  393074.0035                313  4.61  1255.83  57.89 \n",
      "\n",
      "\n",
      "p-val для анализа по критерию Хи-квадрат: 0.428\n",
      "p-val для анализа по критерию U-критерий Манна-Уитни: 0.00027\n"
     ]
    }
   ],
   "source": [
    "chi, mwu, metrics = funq()\n",
    "\n",
    "print('Метрики rev_all(общая сумма заработка), student_count(количество студентов), CR, ARPPU, ARPU \\n\\n', metrics, '\\n\\n')\n",
    "print('p-val для анализа по критерию Хи-квадрат:', chi)\n",
    "print('p-val для анализа по критерию U-критерий Манна-Уитни:', mwu)\n"
   ]
  },
  {
   "cell_type": "markdown",
   "id": "89c34b7a",
   "metadata": {},
   "source": [
    "Предположим, что нам отправили новый файл и он подгрузился к нам в папку."
   ]
  },
  {
   "cell_type": "code",
   "execution_count": 68,
   "id": "d818d92d",
   "metadata": {},
   "outputs": [],
   "source": [
    "groups_add_df = 'groups_add.csv'"
   ]
  },
  {
   "cell_type": "code",
   "execution_count": 69,
   "id": "963fe4c3",
   "metadata": {},
   "outputs": [
    {
     "name": "stdout",
     "output_type": "stream",
     "text": [
      "Файл найден\n",
      "Метрики rev_all(общая сумма заработка), student_count(количество студентов), CR, ARPPU, ARPU \n",
      "\n",
      "   grp      rev_all  student_count_buy    CR    ARPPU   ARPU\n",
      "0   A   72820.0000                 78  5.07   933.59  47.33\n",
      "1   B  394974.0035                314  4.62  1257.88  58.11 \n",
      "\n",
      "\n",
      "p-val для анализа по критерию Хи-квадрат: 0.445\n",
      "p-val для анализа по критерию U-критерий Манна-Уитни: 0.00025\n"
     ]
    }
   ],
   "source": [
    "chi_new, mwu_new, metrics_new = funq()\n",
    "\n",
    "print('Метрики rev_all(общая сумма заработка), student_count(количество студентов), CR, ARPPU, ARPU \\n\\n', metrics_new, '\\n\\n')\n",
    "print('p-val для анализа по критерию Хи-квадрат:', chi_new)\n",
    "print('p-val для анализа по критерию U-критерий Манна-Уитни:', mwu_new)"
   ]
  },
  {
   "cell_type": "markdown",
   "id": "8179e5d5",
   "metadata": {},
   "source": [
    "Далее реализуем функцию для построения графиков"
   ]
  },
  {
   "cell_type": "code",
   "execution_count": 70,
   "id": "0dda7b09",
   "metadata": {},
   "outputs": [],
   "source": [
    "def grafs(metrics):\n",
    "    \n",
    "    figure, ax = plt.subplots(1, 3, figsize=(8, 5))\n",
    "    \n",
    "\n",
    "    ax_CR = sns.barplot(data = metrics, x = metrics.grp, y=metrics.CR, ax=ax[0], palette = \"mako\")\n",
    "    ax_CR.set_xlabel('Метка группы', fontsize=10)\n",
    "    ax_CR.set_ylabel('')\n",
    "    ax_CR.set_ylim(0, 8)\n",
    "    ax_CR.set_title('CR, %', fontsize=10)\n",
    "    \n",
    "    ax_ARPPU = sns.barplot(data = metrics, x = metrics.grp, y=metrics.ARPPU, ax=ax[1], palette = \"mako\")\n",
    "    ax_ARPPU.set_xlabel('Метка группы', fontsize=10)\n",
    "    ax_ARPPU.set_ylabel('')\n",
    "    ax_ARPPU.set_title('ARPPU', fontsize=10)\n",
    "    \n",
    "    ax_ARPU = sns.barplot(data = metrics, x = metrics.grp, y=metrics.ARPU, ax=ax[2], palette = \"mako\")\n",
    "    ax_ARPU.set_xlabel('Метка группы', fontsize=10)\n",
    "    ax_ARPU.set_ylabel('')\n",
    "    ax_ARPU.set_title('ARPU', fontsize=10)\n",
    "    \n",
    "    figure.tight_layout()"
   ]
  },
  {
   "cell_type": "markdown",
   "id": "cf6eec39",
   "metadata": {},
   "source": [
    "Для данных __без__ присоединенного файла:"
   ]
  },
  {
   "cell_type": "code",
   "execution_count": 71,
   "id": "67982a82",
   "metadata": {},
   "outputs": [
    {
     "data": {
      "image/png": "[encoded data removed]",
      "text/plain": [
       "<Figure size 576x360 with 3 Axes>"
      ]
     },
     "metadata": {},
     "output_type": "display_data"
    }
   ],
   "source": [
    "grafs(metrics)"
   ]
  },
  {
   "cell_type": "markdown",
   "id": "20702c1a",
   "metadata": {},
   "source": [
    "Для данных __с__ присоединенным файлом:"
   ]
  },
  {
   "cell_type": "code",
   "execution_count": 72,
   "id": "e202d454",
   "metadata": {},
   "outputs": [
    {
     "data": {
      "image/png": "[encoded data removed]",
      "text/plain": [
       "<Figure size 576x360 with 3 Axes>"
      ]
     },
     "metadata": {},
     "output_type": "display_data"
    }
   ],
   "source": [
    "grafs(metrics_new)"
   ]
  }
 ],
 "metadata": {
  "kernelspec": {
   "display_name": "Python 3 (ipykernel)",
   "language": "python",
   "name": "python3"
  },
  "language_info": {
   "codemirror_mode": {
    "name": "ipython",
    "version": 3
   },
   "file_extension": ".py",
   "mimetype": "text/x-python",
   "name": "python",
   "nbconvert_exporter": "python",
   "pygments_lexer": "ipython3",
   "version": "3.9.7"
  }
 },
 "nbformat": 4,
 "nbformat_minor": 5
}
